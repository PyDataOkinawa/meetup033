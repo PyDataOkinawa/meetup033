{
 "cells": [
  {
   "cell_type": "code",
   "execution_count": 1,
   "metadata": {
    "collapsed": true
   },
   "outputs": [],
   "source": [
    "import numpy as np"
   ]
  },
  {
   "cell_type": "markdown",
   "metadata": {},
   "source": [
    "# 期待値"
   ]
  },
  {
   "cell_type": "markdown",
   "metadata": {},
   "source": [
    ">期待値とは、1回の試行で得られる値の平均値のことで、得られうるすべての値とそれが起こる確率の積を足し合わせたものです。例えば次の表に示すように、n通りの結果があり、それぞれの起こる確率がであるとします。\n",
    "\n",
    "https://bellcurve.jp/statistics/course/6349.html\n",
    "\n",
    "$$\n",
    "\\sum_{k=1}^{n}p_{k}x_k = p_1 \\times x_1 +  p_2 \\times x_2 + \\dots + p_k \\times x_k + \\dots + p_n \\times x_n\n",
    "$$"
   ]
  },
  {
   "cell_type": "markdown",
   "metadata": {},
   "source": [
    "例題:1\n",
    "\n",
    "さいころを1回投げるとき、出る目の期待値はいくらになるでしょうか。"
   ]
  },
  {
   "cell_type": "code",
   "execution_count": 2,
   "metadata": {},
   "outputs": [
    {
     "data": {
      "text/plain": [
       "[0.16666666666666666,\n",
       " 0.16666666666666666,\n",
       " 0.16666666666666666,\n",
       " 0.16666666666666666,\n",
       " 0.16666666666666666,\n",
       " 0.16666666666666666]"
      ]
     },
     "execution_count": 2,
     "metadata": {},
     "output_type": "execute_result"
    }
   ],
   "source": [
    "[1/6] * 6"
   ]
  },
  {
   "cell_type": "code",
   "execution_count": 6,
   "metadata": {},
   "outputs": [
    {
     "name": "stdout",
     "output_type": "stream",
     "text": [
      "3.5\n"
     ]
    }
   ],
   "source": [
    "# さいころの出る目の確率はそれぞれ1/6なので\n",
    "out = [1, 2, 3, 4, 5, 6]  # 出る目\n",
    "p = [1/6] * 6  # 確率\n",
    "r = 0\n",
    "for o, _p in zip(out, p):\n",
    "    r += o * _p\n",
    "\n",
    "print(r)"
   ]
  },
  {
   "cell_type": "markdown",
   "metadata": {},
   "source": [
    "例題2：\n",
    "\n",
    "さいころを投げて、出た目の数×100円貰えるゲームをします。このゲームを1回やるとき、いくら貰えると考えられるでしょうか。"
   ]
  },
  {
   "cell_type": "code",
   "execution_count": 9,
   "metadata": {},
   "outputs": [
    {
     "name": "stdout",
     "output_type": "stream",
     "text": [
      "350.0\n"
     ]
    }
   ],
   "source": [
    "# out = [1, 2, 3, 4, 5, 6]  # 出る目\n",
    "price = [100, 200, 300, 400, 500, 600]\n",
    "p = [1/6] * 6  # 確率\n",
    "\n",
    "r = 0\n",
    "for o, _p in zip(price, p):\n",
    "    r += o * _p\n",
    "\n",
    "print(r)"
   ]
  },
  {
   "cell_type": "markdown",
   "metadata": {},
   "source": [
    "例題3：\n",
    "\n",
    "コインを1枚投げたときに、表が出たら100円がもらえるが、裏が出たら100円を支払わなくてはならないゲームをします。このゲームを1回やるとき、いくら貰えると考えられるでしょうか。"
   ]
  },
  {
   "cell_type": "code",
   "execution_count": 12,
   "metadata": {},
   "outputs": [
    {
     "name": "stdout",
     "output_type": "stream",
     "text": [
      "0.0\n"
     ]
    }
   ],
   "source": [
    "# コインの表・裏が出る確率は1/2\n",
    "price = [100, -100]  # 表,裏\n",
    "p = [1/2] * 2\n",
    "\n",
    "r = 0\n",
    "for o, _p in zip(price, p):\n",
    "    r += o * _p\n",
    "\n",
    "print(r)"
   ]
  },
  {
   "cell_type": "code",
   "execution_count": null,
   "metadata": {
    "collapsed": true
   },
   "outputs": [],
   "source": []
  }
 ],
 "metadata": {
  "kernelspec": {
   "display_name": "Python 3",
   "language": "python",
   "name": "python3"
  },
  "language_info": {
   "codemirror_mode": {
    "name": "ipython",
    "version": 3
   },
   "file_extension": ".py",
   "mimetype": "text/x-python",
   "name": "python",
   "nbconvert_exporter": "python",
   "pygments_lexer": "ipython3",
   "version": "3.6.3"
  }
 },
 "nbformat": 4,
 "nbformat_minor": 2
}
