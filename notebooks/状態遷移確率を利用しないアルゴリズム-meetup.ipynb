{
 "cells": [
  {
   "cell_type": "markdown",
   "metadata": {},
   "source": [
    "## ここでやること"
   ]
  },
  {
   "cell_type": "markdown",
   "metadata": {},
   "source": [
    "SARSAとQ-Learningの雰囲気を掴んでみたい"
   ]
  },
  {
   "cell_type": "code",
   "execution_count": 447,
   "metadata": {
    "collapsed": true
   },
   "outputs": [],
   "source": [
    "import pandas as pd\n",
    "import numpy as np\n",
    "import matplotlib.pyplot as plt\n",
    "from src.grid import *\n",
    "\n",
    "# numpy float 見づらいので調整する\n",
    "np.set_printoptions(formatter={'float': '{: 0.3f}'.format})\n",
    "\n",
    "%matplotlib inline"
   ]
  },
  {
   "cell_type": "markdown",
   "metadata": {},
   "source": [
    "# SARSA\n",
    "\n",
    "status -> action -> reward -> status -> actionでSARSA\n",
    "\n",
    "$Q(S_t, A_t) \\gets (1 - \\alpha)Q(S_t, A_t) + \\alpha(R_{t+1} + \\gamma Q(S_{t+1}, A_{t+1}))$\n",
    "\n",
    "$\\alpha$は学習率です.\n",
    "\n",
    "式変形\n",
    "\n",
    "$Q(S_t, A_t) \\gets Q(S_t, A_t) + \\alpha(R_{t+1} + \\gamma (S_{t+1}, A_{t+1}) - Q(S_t, A_t))$\n",
    "\n",
    "$R_{t+1} + \\gamma (S_{t+1}, A_{t+1}) - Q(S_t, A_t)$ <- TD誤差\n",
    "\n",
    "収束すればゼロになる。収束からの離れ具合といえる"
   ]
  },
  {
   "cell_type": "markdown",
   "metadata": {},
   "source": [
    "適当に実装してみる"
   ]
  },
  {
   "cell_type": "code",
   "execution_count": 196,
   "metadata": {},
   "outputs": [
    {
     "data": {
      "text/plain": [
       "array([[ 10.,  10.],\n",
       "       [ 10.,  10.],\n",
       "       [ 10.,  10.],\n",
       "       [ 10.,  10.]])"
      ]
     },
     "execution_count": 196,
     "metadata": {},
     "output_type": "execute_result"
    }
   ],
   "source": [
    "q_table = np.zeros(np.array(grid_transition).shape)\n",
    "q_table[:]  = 10  # Q関数の値を10で初期化\n",
    "q_table"
   ]
  }
 ],
 "metadata": {
  "kernelspec": {
   "display_name": "Python 3",
   "language": "python",
   "name": "python3"
  },
  "language_info": {
   "codemirror_mode": {
    "name": "ipython",
    "version": 3
   },
   "file_extension": ".py",
   "mimetype": "text/x-python",
   "name": "python",
   "nbconvert_exporter": "python",
   "pygments_lexer": "ipython3",
   "version": "3.6.3"
  }
 },
 "nbformat": 4,
 "nbformat_minor": 2
}
