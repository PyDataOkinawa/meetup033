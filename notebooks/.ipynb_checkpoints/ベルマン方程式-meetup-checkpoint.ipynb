{
 "cells": [
  {
   "cell_type": "markdown",
   "metadata": {},
   "source": [
    "こういうマップがあるとする"
   ]
  },
  {
   "cell_type": "markdown",
   "metadata": {},
   "source": [
    "<img src='./img/1.png'>"
   ]
  },
  {
   "cell_type": "markdown",
   "metadata": {},
   "source": [
    "s1, s2, s3, s4は状態です。わかりづらいので s1:スタート地点、s2:遠回りだけど安全な道, s3:近道だけど、崖, s4:ゴール　とする\n",
    "\n",
    "a1, a2はアクションです。ある状態からあるアクションを取ったとき、状態遷移と報酬が与えられます。簡単にいえば移動したってことで"
   ]
  },
  {
   "cell_type": "markdown",
   "metadata": {},
   "source": [
    "## いまからやること\n",
    "\n",
    "ベルマン方程式を実装してときたい\n",
    "\n",
    "$$\n",
    "V^\\pi (s) = \\sum_{a \\in A(s)} \\pi(a|s) \\sum_{s' \\in S} P(s'|s, a) V^\\pi(s')\n",
    "$$\n",
    "\n",
    "こいつを実装したい"
   ]
  },
  {
   "cell_type": "code",
   "execution_count": 1,
   "metadata": {
    "collapsed": true
   },
   "outputs": [],
   "source": [
    "import pandas as pd\n",
    "import numpy as np"
   ]
  },
  {
   "cell_type": "code",
   "execution_count": 42,
   "metadata": {
    "collapsed": true
   },
   "outputs": [],
   "source": [
    "# s1 -> [a1, a2], s2 -> [a1, a2] ...\n",
    "grid_reward = [[0, 1], [-1, 1], [5, -100], [0, 0]]\n",
    "grid_transition = [[2, 1], [0, 3], [3, 0], [None, None]]\n",
    "actions = [0, 1]\n",
    "gamma = 0.8"
   ]
  },
  {
   "cell_type": "code",
   "execution_count": null,
   "metadata": {
    "collapsed": true
   },
   "outputs": [],
   "source": []
  }
 ],
 "metadata": {
  "kernelspec": {
   "display_name": "Python 3",
   "language": "python",
   "name": "python3"
  },
  "language_info": {
   "codemirror_mode": {
    "name": "ipython",
    "version": 3
   },
   "file_extension": ".py",
   "mimetype": "text/x-python",
   "name": "python",
   "nbconvert_exporter": "python",
   "pygments_lexer": "ipython3",
   "version": "3.6.3"
  }
 },
 "nbformat": 4,
 "nbformat_minor": 2
}
