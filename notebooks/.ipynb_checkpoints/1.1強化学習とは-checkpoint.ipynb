{
 "cells": [
  {
   "cell_type": "markdown",
   "metadata": {},
   "source": [
    "# 1.1.1強化学習の考え方"
   ]
  },
  {
   "cell_type": "code",
   "execution_count": 72,
   "metadata": {
    "collapsed": true
   },
   "outputs": [],
   "source": [
    "import numpy as np\n",
    "import pandas as pd"
   ]
  },
  {
   "cell_type": "markdown",
   "metadata": {},
   "source": [
    "## キーワード\n",
    "\n",
    "* エージェント(agent)\n",
    "* 環境(environment)\n",
    "* 行動(action)\n",
    "* 状態(state)\n",
    "* 報酬(reward)\n",
    "* 損失(loss)\n",
    "* 方策(policy)\n",
    "* 収益(return, income)\n",
    "* 割引(discount)\n",
    "* 価値(value)\n",
    "* 探索(exploration)"
   ]
  },
  {
   "cell_type": "markdown",
   "metadata": {},
   "source": [
    "強化学習問題とは、対象について不完全な知識しかなく、対象へのはたらきかけによって観測できることが代わってくる場合に、最適なはたらきかけ方の系列を発見するような問題である"
   ]
  },
  {
   "cell_type": "markdown",
   "metadata": {},
   "source": [
    "行動する主体をエージェント(agent)とよび、はたらきかける対象を環境(enviroment)とよぶ"
   ]
  },
  {
   "cell_type": "markdown",
   "metadata": {},
   "source": [
    "例えばの話だけど、旅行中たまたま運が悪く遭難してしまい、無人島に流れ着いた人になったとします。そこでは何があるかどこに行けばいいのか全くわからない。え、お家帰りたい。とりあえず喉乾いたけど、水はどこにあるの？死にそう\n",
    "\n",
    "こういう状況において、どのように行動すれば良いのか考えなければいけません。\n",
    "\n",
    "* 歩きまわる\n",
    "* 色々なものの匂いをかいでみる\n",
    "* 食べてみる\n",
    "\n",
    "など、環境へはたらきかけを通して、探索しながら生き延びる方法を探さなければならない。\n",
    "これが強化学習の一例です。\n",
    "この例では、流れ着いた自分（人）がエージェントであり、流れ着いた無人島周囲が環境となります。"
   ]
  },
  {
   "cell_type": "markdown",
   "metadata": {},
   "source": [
    "エージェントが環境に行うはたらきかけを行動とよびます。エージェントがとる行動によって、その後に何が起きるかかわってきます。歩き続けていると日が暮れるし、木から果実を取ると、そこから果実はなくなります。このように、エージェントが行動することで変化する環境の要素を状態とよびます。"
   ]
  },
  {
   "cell_type": "markdown",
   "metadata": {},
   "source": [
    "# 1.1.2 多腕バンディット問題"
   ]
  },
  {
   "cell_type": "markdown",
   "metadata": {},
   "source": [
    "## キーワード\n",
    "\n",
    "* greedyアルゴリズム\n",
    "* ε（イプシロン）-greedy"
   ]
  },
  {
   "cell_type": "markdown",
   "metadata": {},
   "source": [
    ">1895年にアメリカの技師フェイCharles Feyが製作した〈リバティ･ベル〉が最初とされ，20世紀に入ると各地の賭博場に普及した。レバーが1本なので，別称をone‐armed bandit(隻腕の悪党)という\n",
    "\n",
    "スロットマシーンのことで、コインを入れて腕を引くと、スロットマシーンの表示が変化し、確率的に当たりがでることにより賭けた額の何倍かが払い戻される。ギャンブルしたことがある人はなんとなくわかるはず。\n",
    "\n",
    " 腕が$K$本あるスロットマシン（->多腕バンディット）を考えます。簡単な数式で表してみましょう。\n",
    "\n",
    "*  腕が$K$本ある\n",
    "* 払い戻される額を$R$\n",
    "* 腕$i$($i = 1, ..., K)$を引いた場合のあたりが出る確率を$p_k$とする\n",
    "* 簡単に考えたいので、スロットマシンの状態は変化しない\n",
    "\n",
    "目的として、腕の選び方を通して、多数回の試行で得られる払戻額の和を最大化することである"
   ]
  },
  {
   "cell_type": "markdown",
   "metadata": {},
   "source": [
    "確率$p_k$が既知なら、腕$k$を引いた場合の払戻額の期待値が$Rp_k$であるので、プレイヤーの最適な戦略は、$R$と$p_k$の積が最大になる腕$k$を選び続けることになる。\n",
    "\n",
    "[期待値って何？](./99.数学のおさらい箱.ipynb#期待値)\n",
    "\n",
    "まあでも、そんなことできたらパチンコ屋は破産しまうので、確率はわからないのです。"
   ]
  },
  {
   "cell_type": "markdown",
   "metadata": {},
   "source": [
    "## greedyアルゴリズム\n",
    "\n",
    "貪欲法。これまでの結果から期待値が最大の腕を選択するというもの。最初、情報はないため、数回探索を行い、期待値を見積もる。\n",
    "\n",
    "$$\n",
    "\\mu_{i} = \\frac{これまで腕iから得られた報酬の和}{これまで腕iをプレイした回数}\n",
    "$$\n",
    "\n",
    "\n",
    "例えば、各腕を$n$回ずつ引いたのちに、greedyアルゴリズムを行う。じゃあどの程度情報収集をすれば良いだろうか？\n",
    "試行回数$n$を増やせば増やすほど、より正確な期待値を見積もることができるはず。しかし、何度も賭けを行うということは得られる払い戻し額は減ることになる。少ない探索で最適な腕を見つけることができれば、多くの払い戻し額を得ることができるはず。これは探索のコストと考えることができる。"
   ]
  },
  {
   "cell_type": "code",
   "execution_count": 1047,
   "metadata": {},
   "outputs": [
    {
     "name": "stdout",
     "output_type": "stream",
     "text": [
      "0番目の腕, 勝率:70.0%, 財布の中:4円\n",
      "1番目の腕, 勝率:0.0%, 財布の中:0円\n",
      "良い腕:0\n"
     ]
    },
    {
     "data": {
      "text/html": [
       "<div>\n",
       "<style>\n",
       "    .dataframe thead tr:only-child th {\n",
       "        text-align: right;\n",
       "    }\n",
       "\n",
       "    .dataframe thead th {\n",
       "        text-align: left;\n",
       "    }\n",
       "\n",
       "    .dataframe tbody tr th {\n",
       "        vertical-align: top;\n",
       "    }\n",
       "</style>\n",
       "<table border=\"1\" class=\"dataframe\">\n",
       "  <thead>\n",
       "    <tr style=\"text-align: right;\">\n",
       "      <th></th>\n",
       "      <th>選択した腕</th>\n",
       "      <th>結果</th>\n",
       "    </tr>\n",
       "  </thead>\n",
       "  <tbody>\n",
       "    <tr>\n",
       "      <th>0</th>\n",
       "      <td>0</td>\n",
       "      <td>1</td>\n",
       "    </tr>\n",
       "    <tr>\n",
       "      <th>1</th>\n",
       "      <td>0</td>\n",
       "      <td>-1</td>\n",
       "    </tr>\n",
       "    <tr>\n",
       "      <th>2</th>\n",
       "      <td>0</td>\n",
       "      <td>1</td>\n",
       "    </tr>\n",
       "    <tr>\n",
       "      <th>3</th>\n",
       "      <td>0</td>\n",
       "      <td>1</td>\n",
       "    </tr>\n",
       "    <tr>\n",
       "      <th>4</th>\n",
       "      <td>0</td>\n",
       "      <td>1</td>\n",
       "    </tr>\n",
       "    <tr>\n",
       "      <th>5</th>\n",
       "      <td>0</td>\n",
       "      <td>-1</td>\n",
       "    </tr>\n",
       "    <tr>\n",
       "      <th>6</th>\n",
       "      <td>0</td>\n",
       "      <td>-1</td>\n",
       "    </tr>\n",
       "    <tr>\n",
       "      <th>7</th>\n",
       "      <td>0</td>\n",
       "      <td>1</td>\n",
       "    </tr>\n",
       "    <tr>\n",
       "      <th>8</th>\n",
       "      <td>0</td>\n",
       "      <td>1</td>\n",
       "    </tr>\n",
       "    <tr>\n",
       "      <th>9</th>\n",
       "      <td>0</td>\n",
       "      <td>1</td>\n",
       "    </tr>\n",
       "  </tbody>\n",
       "</table>\n",
       "</div>"
      ],
      "text/plain": [
       "   選択した腕  結果\n",
       "0      0   1\n",
       "1      0  -1\n",
       "2      0   1\n",
       "3      0   1\n",
       "4      0   1\n",
       "5      0  -1\n",
       "6      0  -1\n",
       "7      0   1\n",
       "8      0   1\n",
       "9      0   1"
      ]
     },
     "execution_count": 1047,
     "metadata": {},
     "output_type": "execute_result"
    }
   ],
   "source": [
    "from copy import copy\n",
    "\n",
    "\n",
    "def multi_armed_bandit(policy, n=5, pk=[0.6, 0.4]):\n",
    "    \"\"\"\n",
    "    多腕バンディットアルゴリズム\n",
    "    arms_p: list 腕Kの確率\n",
    "    \"\"\"\n",
    "    r_label = [-1, 1]  # 腕を引いたときの結果　-1 -> 負, 1 -> 勝\n",
    "    K = range(len(pk))  # 経験をためるため試行する\n",
    "    reward_by_arms = [0 for _ in K]  # 腕毎の報酬の和\n",
    "    n_win = copy(reward_by_arms)  # 勝ちの回数を取っておく\n",
    "    results_table = []\n",
    "\n",
    "    for _ in range(n):\n",
    "        # 腕を選択する\n",
    "        # 1. Aがでたら次はBを選択する\n",
    "        # 2. muで一番報酬が良い腕を選択する\n",
    "        selected_arm = policy.select()\n",
    "        \n",
    "        # 選択した腕の払い戻し確率を選択する\n",
    "        p = pk[selected_arm]\n",
    "        \n",
    "        #　腕を引いた結果を取得する\n",
    "        # p=[]は、0番目に0.7といれると、70%の確率で0番目を選択するようになる\n",
    "        # 全部足すと１にしないといけない\n",
    "        reward = np.random.choice(r_label, p=[1 - p, p])\n",
    "\n",
    "        # 試行の結果（報酬）を足し合わせる\n",
    "        reward_by_arms[selected_arm] += reward\n",
    "        n_win[selected_arm] += 1 if reward > 0 else 0\n",
    "        results_table.append([selected_arm, reward])\n",
    "    \n",
    "    return reward_by_arms, n_win, results_table\n",
    "\n",
    "\n",
    "def to_df(results):\n",
    "    return pd.DataFrame(results, columns=['選択した腕', '結果'])\n",
    "\n",
    "\n",
    "def export_results(n, mu, n_win, results):\n",
    "    # 一番結果の良い腕を選択する\n",
    "    # 同じ勝率の場合はどっちを選んでも良いものとする\n",
    "    for index, v in enumerate(mu):\n",
    "        m = (n_win[index] / n) * 100\n",
    "        print('{}番目の腕, 勝率:{:.1f}%, 財布の中:{}円'.format(index, m, v))\n",
    "\n",
    "\n",
    "def play_multi_armed_bandit(policy, n=10, pk=[0.6, 0.4]):\n",
    "    reward_by_arms, n_win, results_table = multi_armed_bandit(policy, n=n, pk=pk)\n",
    "    export_results(n, reward_by_arms, n_win, results_table)\n",
    "    print('良い腕:{}'.format(np.argmax(n_win)))\n",
    "    return to_df(results_table)\n",
    "\n",
    "\n",
    "class Policy():\n",
    "    def select(self):\n",
    "        raise NotImplementedError()\n",
    "\n",
    "\n",
    "class MustBeZero(Policy):\n",
    "    def select(self):\n",
    "        return 0\n",
    "\n",
    "\n",
    "class EarnExperience(Policy):\n",
    "    def __init__(self, pk):\n",
    "        self.choice_index = 0\n",
    "        self.last_index = len(pk)\n",
    "        \n",
    "    def select(self):\n",
    "        choice = self.choice_index\n",
    "        self.choice_index += 1\n",
    "        if self.choice_index >= self.last_index:\n",
    "            self.choice_index = 0\n",
    "\n",
    "        return choice\n",
    "\n",
    "    \n",
    "class Greedy(Policy):\n",
    "    def __init__(self, mu, n):\n",
    "        self.best_arm = np.argmax(np.mean(mu, axis=0))\n",
    "        \n",
    "    def select(self):\n",
    "        return self.best_arm\n",
    "\n",
    "\n",
    "policy = MustBeZero()\n",
    "results_table = play_multi_armed_bandit(policy)\n",
    "results_table"
   ]
  },
  {
   "cell_type": "markdown",
   "metadata": {},
   "source": [
    "経験をためてみてみる"
   ]
  },
  {
   "cell_type": "code",
   "execution_count": 1048,
   "metadata": {},
   "outputs": [
    {
     "name": "stdout",
     "output_type": "stream",
     "text": [
      "0番目の腕, 勝率:16.7%, 財布の中:-1円\n",
      "1番目の腕, 勝率:16.7%, 財布の中:-1円\n",
      "良い腕:0\n"
     ]
    },
    {
     "data": {
      "text/html": [
       "<div>\n",
       "<style>\n",
       "    .dataframe thead tr:only-child th {\n",
       "        text-align: right;\n",
       "    }\n",
       "\n",
       "    .dataframe thead th {\n",
       "        text-align: left;\n",
       "    }\n",
       "\n",
       "    .dataframe tbody tr th {\n",
       "        vertical-align: top;\n",
       "    }\n",
       "</style>\n",
       "<table border=\"1\" class=\"dataframe\">\n",
       "  <thead>\n",
       "    <tr style=\"text-align: right;\">\n",
       "      <th></th>\n",
       "      <th>選択した腕</th>\n",
       "      <th>結果</th>\n",
       "    </tr>\n",
       "  </thead>\n",
       "  <tbody>\n",
       "    <tr>\n",
       "      <th>0</th>\n",
       "      <td>0</td>\n",
       "      <td>-1</td>\n",
       "    </tr>\n",
       "    <tr>\n",
       "      <th>1</th>\n",
       "      <td>1</td>\n",
       "      <td>-1</td>\n",
       "    </tr>\n",
       "    <tr>\n",
       "      <th>2</th>\n",
       "      <td>0</td>\n",
       "      <td>1</td>\n",
       "    </tr>\n",
       "    <tr>\n",
       "      <th>3</th>\n",
       "      <td>1</td>\n",
       "      <td>1</td>\n",
       "    </tr>\n",
       "    <tr>\n",
       "      <th>4</th>\n",
       "      <td>0</td>\n",
       "      <td>-1</td>\n",
       "    </tr>\n",
       "    <tr>\n",
       "      <th>5</th>\n",
       "      <td>1</td>\n",
       "      <td>-1</td>\n",
       "    </tr>\n",
       "  </tbody>\n",
       "</table>\n",
       "</div>"
      ],
      "text/plain": [
       "   選択した腕  結果\n",
       "0      0  -1\n",
       "1      1  -1\n",
       "2      0   1\n",
       "3      1   1\n",
       "4      0  -1\n",
       "5      1  -1"
      ]
     },
     "execution_count": 1048,
     "metadata": {},
     "output_type": "execute_result"
    }
   ],
   "source": [
    "pk = [0.6, 0.4]\n",
    "policy = EarnExperience(pk)\n",
    "results_table = play_multi_armed_bandit(policy, n=6, pk=pk)\n",
    "results_table"
   ]
  },
  {
   "cell_type": "markdown",
   "metadata": {},
   "source": [
    "0番目が良さそう。となる"
   ]
  },
  {
   "cell_type": "code",
   "execution_count": 1049,
   "metadata": {
    "collapsed": true
   },
   "outputs": [],
   "source": [
    "def grouping(df):\n",
    "    return df[df['結果'] > 0].groupby(['選択した腕'])[['結果']].count()\n",
    "\n",
    "def random_pk():\n",
    "    x = np.random.random_sample()\n",
    "    return [x, 1 - x]"
   ]
  },
  {
   "cell_type": "code",
   "execution_count": 1056,
   "metadata": {},
   "outputs": [
    {
     "name": "stdout",
     "output_type": "stream",
     "text": [
      "0番目の腕, 勝率:16.7%, 財布の中:-1円\n",
      "1番目の腕, 勝率:33.3%, 財布の中:1円\n",
      "良い腕:1\n",
      "0.25,0.75\n"
     ]
    }
   ],
   "source": [
    "pk = random_pk()\n",
    "policy = EarnExperience(pk)\n",
    "results_table = play_multi_armed_bandit(policy, n=6, pk=pk)\n",
    "grouping(results_table)\n",
    "print('{0[0]:.2f},{0[1]:.2f}'.format(pk))"
   ]
  },
  {
   "cell_type": "code",
   "execution_count": 1076,
   "metadata": {},
   "outputs": [
    {
     "name": "stdout",
     "output_type": "stream",
     "text": [
      "0番目の腕, 勝率:48.0%, 財布の中:46円\n",
      "1番目の腕, 勝率:3.0%, 財布の中:-44円\n",
      "良い腕:0\n",
      "0.94,0.06\n"
     ]
    }
   ],
   "source": [
    "pk = random_pk()\n",
    "policy = EarnExperience(pk)\n",
    "results_table = play_multi_armed_bandit(policy, n=100, pk=pk)\n",
    "grouping(results_table)\n",
    "print('{0[0]:.2f},{0[1]:.2f}'.format(pk))"
   ]
  },
  {
   "cell_type": "code",
   "execution_count": 1097,
   "metadata": {},
   "outputs": [
    {
     "name": "stdout",
     "output_type": "stream",
     "text": [
      "0番目の腕, 勝率:46.7%, 財布の中:434円\n",
      "1番目の腕, 勝率:3.5%, 財布の中:-430円\n",
      "良い腕:0\n",
      "0.93,0.07\n"
     ]
    }
   ],
   "source": [
    "pk = random_pk()\n",
    "policy = EarnExperience(pk)\n",
    "results_table = play_multi_armed_bandit(policy, n=1000, pk=pk)\n",
    "grouping(results_table)\n",
    "print('{0[0]:.2f},{0[1]:.2f}'.format(pk))"
   ]
  },
  {
   "cell_type": "code",
   "execution_count": 617,
   "metadata": {},
   "outputs": [
    {
     "name": "stdout",
     "output_type": "stream",
     "text": [
      "0番目の腕, 勝率:62.0%, 財布の中:24円\n",
      "1番目の腕, 勝率:39.0%, 財布の中:-22円\n"
     ]
    },
    {
     "data": {
      "text/html": [
       "<div>\n",
       "<style>\n",
       "    .dataframe thead tr:only-child th {\n",
       "        text-align: right;\n",
       "    }\n",
       "\n",
       "    .dataframe thead th {\n",
       "        text-align: left;\n",
       "    }\n",
       "\n",
       "    .dataframe tbody tr th {\n",
       "        vertical-align: top;\n",
       "    }\n",
       "</style>\n",
       "<table border=\"1\" class=\"dataframe\">\n",
       "  <thead>\n",
       "    <tr style=\"text-align: right;\">\n",
       "      <th></th>\n",
       "      <th>結果</th>\n",
       "    </tr>\n",
       "    <tr>\n",
       "      <th>選択した腕</th>\n",
       "      <th></th>\n",
       "    </tr>\n",
       "  </thead>\n",
       "  <tbody>\n",
       "    <tr>\n",
       "      <th>0</th>\n",
       "      <td>62</td>\n",
       "    </tr>\n",
       "    <tr>\n",
       "      <th>1</th>\n",
       "      <td>39</td>\n",
       "    </tr>\n",
       "  </tbody>\n",
       "</table>\n",
       "</div>"
      ],
      "text/plain": [
       "       結果\n",
       "選択した腕    \n",
       "0      62\n",
       "1      39"
      ]
     },
     "execution_count": 617,
     "metadata": {},
     "output_type": "execute_result"
    }
   ],
   "source": [
    "grouping(multi_armed_bandit(n=100, arms_p=[0.6, 0.4])[1])"
   ]
  },
  {
   "cell_type": "code",
   "execution_count": 618,
   "metadata": {},
   "outputs": [
    {
     "name": "stdout",
     "output_type": "stream",
     "text": [
      "0番目の腕, 勝率:60.2%, 財布の中:204円\n",
      "1番目の腕, 勝率:37.8%, 財布の中:-244円\n"
     ]
    },
    {
     "data": {
      "text/html": [
       "<div>\n",
       "<style>\n",
       "    .dataframe thead tr:only-child th {\n",
       "        text-align: right;\n",
       "    }\n",
       "\n",
       "    .dataframe thead th {\n",
       "        text-align: left;\n",
       "    }\n",
       "\n",
       "    .dataframe tbody tr th {\n",
       "        vertical-align: top;\n",
       "    }\n",
       "</style>\n",
       "<table border=\"1\" class=\"dataframe\">\n",
       "  <thead>\n",
       "    <tr style=\"text-align: right;\">\n",
       "      <th></th>\n",
       "      <th>結果</th>\n",
       "    </tr>\n",
       "    <tr>\n",
       "      <th>選択した腕</th>\n",
       "      <th></th>\n",
       "    </tr>\n",
       "  </thead>\n",
       "  <tbody>\n",
       "    <tr>\n",
       "      <th>0</th>\n",
       "      <td>602</td>\n",
       "    </tr>\n",
       "    <tr>\n",
       "      <th>1</th>\n",
       "      <td>378</td>\n",
       "    </tr>\n",
       "  </tbody>\n",
       "</table>\n",
       "</div>"
      ],
      "text/plain": [
       "        結果\n",
       "選択した腕     \n",
       "0      602\n",
       "1      378"
      ]
     },
     "execution_count": 618,
     "metadata": {},
     "output_type": "execute_result"
    }
   ],
   "source": [
    "grouping(multi_armed_bandit(n=1000, arms_p=[0.6, 0.4])[1])"
   ]
  },
  {
   "cell_type": "code",
   "execution_count": 619,
   "metadata": {},
   "outputs": [
    {
     "name": "stdout",
     "output_type": "stream",
     "text": [
      "0番目の腕, 勝率:60.5%, 財布の中:2096円\n",
      "1番目の腕, 勝率:39.6%, 財布の中:-2074円\n"
     ]
    },
    {
     "data": {
      "text/html": [
       "<div>\n",
       "<style>\n",
       "    .dataframe thead tr:only-child th {\n",
       "        text-align: right;\n",
       "    }\n",
       "\n",
       "    .dataframe thead th {\n",
       "        text-align: left;\n",
       "    }\n",
       "\n",
       "    .dataframe tbody tr th {\n",
       "        vertical-align: top;\n",
       "    }\n",
       "</style>\n",
       "<table border=\"1\" class=\"dataframe\">\n",
       "  <thead>\n",
       "    <tr style=\"text-align: right;\">\n",
       "      <th></th>\n",
       "      <th>結果</th>\n",
       "    </tr>\n",
       "    <tr>\n",
       "      <th>選択した腕</th>\n",
       "      <th></th>\n",
       "    </tr>\n",
       "  </thead>\n",
       "  <tbody>\n",
       "    <tr>\n",
       "      <th>0</th>\n",
       "      <td>6048</td>\n",
       "    </tr>\n",
       "    <tr>\n",
       "      <th>1</th>\n",
       "      <td>3963</td>\n",
       "    </tr>\n",
       "  </tbody>\n",
       "</table>\n",
       "</div>"
      ],
      "text/plain": [
       "         結果\n",
       "選択した腕      \n",
       "0      6048\n",
       "1      3963"
      ]
     },
     "execution_count": 619,
     "metadata": {},
     "output_type": "execute_result"
    }
   ],
   "source": [
    "grouping(multi_armed_bandit(n=10000, arms_p=[0.6, 0.4])[1])"
   ]
  },
  {
   "cell_type": "markdown",
   "metadata": {},
   "source": [
    "100回ぐらいからAが勝てそうとわかる"
   ]
  },
  {
   "cell_type": "markdown",
   "metadata": {},
   "source": [
    "一方、試行回数nが少ない場合、期待値の分散が大きくなるため、誤って最適ではない腕を選択してしまう可能性が増える.\n",
    "\n",
    "このとき間違いそうなパターンは２種類ある."
   ]
  },
  {
   "cell_type": "markdown",
   "metadata": {},
   "source": [
    "### 払戻率を大きい側に誤認した場合"
   ]
  },
  {
   "cell_type": "code",
   "execution_count": 758,
   "metadata": {},
   "outputs": [
    {
     "name": "stdout",
     "output_type": "stream",
     "text": [
      "0番目の腕, 勝率:33.3%, 財布の中:-1円\n",
      "1番目の腕, 勝率:100.0%, 財布の中:3円\n"
     ]
    },
    {
     "data": {
      "text/html": [
       "<div>\n",
       "<style>\n",
       "    .dataframe thead tr:only-child th {\n",
       "        text-align: right;\n",
       "    }\n",
       "\n",
       "    .dataframe thead th {\n",
       "        text-align: left;\n",
       "    }\n",
       "\n",
       "    .dataframe tbody tr th {\n",
       "        vertical-align: top;\n",
       "    }\n",
       "</style>\n",
       "<table border=\"1\" class=\"dataframe\">\n",
       "  <thead>\n",
       "    <tr style=\"text-align: right;\">\n",
       "      <th></th>\n",
       "      <th>選択した腕</th>\n",
       "      <th>結果</th>\n",
       "    </tr>\n",
       "  </thead>\n",
       "  <tbody>\n",
       "    <tr>\n",
       "      <th>0</th>\n",
       "      <td>0</td>\n",
       "      <td>-1</td>\n",
       "    </tr>\n",
       "    <tr>\n",
       "      <th>1</th>\n",
       "      <td>1</td>\n",
       "      <td>1</td>\n",
       "    </tr>\n",
       "    <tr>\n",
       "      <th>2</th>\n",
       "      <td>0</td>\n",
       "      <td>1</td>\n",
       "    </tr>\n",
       "    <tr>\n",
       "      <th>3</th>\n",
       "      <td>1</td>\n",
       "      <td>1</td>\n",
       "    </tr>\n",
       "    <tr>\n",
       "      <th>4</th>\n",
       "      <td>0</td>\n",
       "      <td>-1</td>\n",
       "    </tr>\n",
       "    <tr>\n",
       "      <th>5</th>\n",
       "      <td>1</td>\n",
       "      <td>1</td>\n",
       "    </tr>\n",
       "  </tbody>\n",
       "</table>\n",
       "</div>"
      ],
      "text/plain": [
       "   選択した腕  結果\n",
       "0      0  -1\n",
       "1      1   1\n",
       "2      0   1\n",
       "3      1   1\n",
       "4      0  -1\n",
       "5      1   1"
      ]
     },
     "execution_count": 758,
     "metadata": {},
     "output_type": "execute_result"
    }
   ],
   "source": [
    "best_arm, df = multi_armed_bandit(n=3, arms_p=[0.6, 0.4])\n",
    "df"
   ]
  },
  {
   "cell_type": "markdown",
   "metadata": {},
   "source": [
    "3回試したとき、たまたま1番目の腕のほうが良い結果になった  \n",
    "\n",
    "100%！！ほんじゃ1番目をずっと実行しよう\n",
    "が、しかし"
   ]
  },
  {
   "cell_type": "code",
   "execution_count": 764,
   "metadata": {},
   "outputs": [
    {
     "name": "stdout",
     "output_type": "stream",
     "text": [
      "0番目の腕, 勝率:62.0%, 財布の中:24円\n",
      "1番目の腕, 勝率:39.0%, 財布の中:-22円\n"
     ]
    },
    {
     "data": {
      "text/html": [
       "<div>\n",
       "<style>\n",
       "    .dataframe thead tr:only-child th {\n",
       "        text-align: right;\n",
       "    }\n",
       "\n",
       "    .dataframe thead th {\n",
       "        text-align: left;\n",
       "    }\n",
       "\n",
       "    .dataframe tbody tr th {\n",
       "        vertical-align: top;\n",
       "    }\n",
       "</style>\n",
       "<table border=\"1\" class=\"dataframe\">\n",
       "  <thead>\n",
       "    <tr style=\"text-align: right;\">\n",
       "      <th></th>\n",
       "      <th>結果</th>\n",
       "    </tr>\n",
       "    <tr>\n",
       "      <th>選択した腕</th>\n",
       "      <th></th>\n",
       "    </tr>\n",
       "  </thead>\n",
       "  <tbody>\n",
       "    <tr>\n",
       "      <th>0</th>\n",
       "      <td>62</td>\n",
       "    </tr>\n",
       "    <tr>\n",
       "      <th>1</th>\n",
       "      <td>39</td>\n",
       "    </tr>\n",
       "  </tbody>\n",
       "</table>\n",
       "</div>"
      ],
      "text/plain": [
       "       結果\n",
       "選択した腕    \n",
       "0      62\n",
       "1      39"
      ]
     },
     "execution_count": 764,
     "metadata": {},
     "output_type": "execute_result"
    }
   ],
   "source": [
    "grouping(multi_armed_bandit(n=100, arms_p=[0.6, 0.4])[1])"
   ]
  },
  {
   "cell_type": "markdown",
   "metadata": {},
   "source": [
    "試行を続けると、Cのほうが大きくなってきた -> もしかしたらCのほうがいいのでは・・・？ -> （誤った学習からの脱出）"
   ]
  },
  {
   "cell_type": "markdown",
   "metadata": {},
   "source": [
    "### 払戻率を小さい側に誤認した場合"
   ]
  },
  {
   "cell_type": "code",
   "execution_count": null,
   "metadata": {
    "collapsed": true
   },
   "outputs": [],
   "source": []
  }
 ],
 "metadata": {
  "kernelspec": {
   "display_name": "Python 3",
   "language": "python",
   "name": "python3"
  },
  "language_info": {
   "codemirror_mode": {
    "name": "ipython",
    "version": 3
   },
   "file_extension": ".py",
   "mimetype": "text/x-python",
   "name": "python",
   "nbconvert_exporter": "python",
   "pygments_lexer": "ipython3",
   "version": "3.6.3"
  }
 },
 "nbformat": 4,
 "nbformat_minor": 2
}
