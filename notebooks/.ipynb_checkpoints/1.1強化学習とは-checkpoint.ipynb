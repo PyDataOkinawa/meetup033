{
 "cells": [
  {
   "cell_type": "markdown",
   "metadata": {},
   "source": [
    "# 1.1.1強化学習の考え方"
   ]
  },
  {
   "cell_type": "markdown",
   "metadata": {},
   "source": [
    "## キーワード\n",
    "\n",
    "* エージェント(agent)\n",
    "* 環境(environment)\n",
    "* 行動(action)\n",
    "* 状態(state)\n",
    "* 報酬(reward)\n",
    "* 損失(loss)\n",
    "* 方策(policy)\n",
    "* 収益(return, income)\n",
    "* 割引(discount)\n",
    "* 価値(value)\n",
    "* 探索(exploration)"
   ]
  },
  {
   "cell_type": "markdown",
   "metadata": {},
   "source": [
    "強化学習問題とは、対象について不完全な知識しかなく、対象へのはたらきかけによって観測できることが代わってくる場合に、最適なはたらきかけ方の系列を発見するような問題である"
   ]
  },
  {
   "cell_type": "markdown",
   "metadata": {},
   "source": [
    "行動する主体をエージェント(agent)とよび、はたらきかける対象を環境(enviroment)とよぶ"
   ]
  },
  {
   "cell_type": "markdown",
   "metadata": {},
   "source": [
    "例えばの話だけど、旅行中たまたま運が悪く遭難してしまい、無人島に流れ着いた人になったとします。そこでは何があるかどこに行けばいいのか全くわからない。え、お家帰りたい。とりあえず喉乾いたけど、水はどこにあるの？死にそう\n",
    "\n",
    "こういう状況において、どのように行動すれば良いのか考えなければいけません。\n",
    "\n",
    "* 歩きまわる\n",
    "* 色々なものの匂いをかいでみる\n",
    "* 食べてみる\n",
    "\n",
    "など、環境へはたらきかけを通して、探索しながら生き延びる方法を探さなければならない。\n",
    "これが強化学習の一例です。\n",
    "この例では、流れ着いた自分（人）がエージェントであり、流れ着いた無人島周囲が環境となります。"
   ]
  },
  {
   "cell_type": "markdown",
   "metadata": {},
   "source": [
    "エージェントが環境に行うはたらきかけを行動とよびます。エージェントがとる行動によって、その後に何が起きるかかわってきます。歩き続けていると日が暮れるし、木から果実を取ると、そこから果実はなくなります。このように、エージェントが行動することで変化する環境の要素を状態とよびます。"
   ]
  },
  {
   "cell_type": "markdown",
   "metadata": {},
   "source": [
    "# 1.1.2 多腕バンディット問題"
   ]
  },
  {
   "cell_type": "markdown",
   "metadata": {},
   "source": [
    "## キーワード\n",
    "\n",
    "* greedyアルゴリズム\n",
    "* ε（イプシロン）-greedy"
   ]
  },
  {
   "cell_type": "markdown",
   "metadata": {},
   "source": [
    ">1895年にアメリカの技師フェイCharles Feyが製作した〈リバティ･ベル〉が最初とされ，20世紀に入ると各地の賭博場に普及した。レバーが1本なので，別称をone‐armed bandit(隻腕の悪党)という\n",
    "\n",
    "スロットマシーンのことで、コインを入れて腕を引くと、スロットマシーンの表示が変化し、確率的に当たりがでることにより賭けた額の何倍かが払い戻される。ギャンブルしたことがある人はなんとなくわかるはず。\n",
    "\n",
    " 腕が$K$本あるスロットマシン（->多腕バンディット）を考えます。簡単な数式で表してみましょう。\n",
    "\n",
    "*  腕が$K$本ある\n",
    "* 払い戻される額を$R$\n",
    "* 腕$i$($i = 1, ..., K)$を引いた場合のあたりが出る確率を$p_k$とする\n",
    "* 簡単に考えたいので、スロットマシンの状態は変化しない\n",
    "\n",
    "目的として、腕の選び方を通して、多数回の試行で得られる払戻額の和を最大化することである"
   ]
  },
  {
   "cell_type": "markdown",
   "metadata": {},
   "source": [
    "確率$p_k$が既知なら、腕$k$を引いた場合の払戻額の期待値が$Rp_k$であるので、プレイヤーの最適な戦略は、$R$と$p_k$の積が最大になる腕$k$を選び続けることになる。\n",
    "\n",
    "[期待値って何？](./99.数学のおさらい箱.ipynb#期待値)\n",
    "\n",
    "まあでも、そんなことできたらパチンコ屋は破産しまうので、確率はわからないのです。"
   ]
  },
  {
   "cell_type": "markdown",
   "metadata": {},
   "source": [
    "## greedyアルゴリズム\n",
    "\n",
    "貪欲法。これまでの結果から期待値が最大の腕を選択するというもの。最初、情報はないため、数回探索を行い、期待値を見積もる。\n",
    "\n",
    "$$\n",
    "\\mu_{i} = \\frac{これまで腕iから得られた報酬の和}{これまで腕iをプレイした回数}\n",
    "$$\n",
    "\n",
    "\n",
    "例えば、各腕を$n$回ずつ引いたのちに、greedyアルゴリズムを行う。じゃあどの程度情報収集をすれば良いだろうか？\n",
    "試行回数$n$を増やせば増やすほど、より正確な期待値を見積もることができるはず。しかし、何度も賭けを行うということは得られる払い戻し額は減ることになる。少ない探索で最適な腕を見つけることができれば、多くの払い戻し額を得ることができるはず。これは探索のコストと考えることができる。"
   ]
  },
  {
   "cell_type": "code",
   "execution_count": 2,
   "metadata": {
    "collapsed": true
   },
   "outputs": [],
   "source": [
    "import numpy as np\n",
    "import pandas as pd\n",
    "\n",
    "class MultiArmedBundit():\n",
    "    \n",
    "    def __init__(self, pk=[], policy=None, warmup=0):\n",
    "        # 腕ごとの確率を指定しないならランダムで出力\n",
    "        K = len(pk)\n",
    "        if K == 0:\n",
    "            K = np.random.randint(2, 5)\n",
    "            self.pk = np.random.sample(K,)\n",
    "        else:\n",
    "            self.pk = pk\n",
    "        \n",
    "        print('確率: {}'.format(self.pk))\n",
    "\n",
    "        # 腕を引いたときの結果　0 -> 負, 1 -> 勝\n",
    "        self.rewards = [0, 1]\n",
    "        \n",
    "        # 腕を選択するアルゴリズム\n",
    "        assert policy is not None, 'Error'\n",
    "        self.policy = policy\n",
    "        \n",
    "        # [[0番目の腕, 報酬], ...]\n",
    "        self.score_board = []\n",
    "        \n",
    "        # [腕ごとのトータル報酬, 腕ごとに選択した数]\n",
    "        self.total_reward_count = [[0, 0] for _ in range(K)]\n",
    "        \n",
    "        self.score_board_df = None\n",
    "\n",
    "        if warmup > 0:\n",
    "            # greedyアルゴリズムは腕ごとにn回の試行が必要なのでこんな処理\n",
    "            for selected_arm in range(K):\n",
    "                self.play(warmup, selected_arm=selected_arm, use_policy=False)\n",
    "        \n",
    "            self.export(self.score_board)\n",
    "\n",
    "    def play(self, n, selected_arm=0, use_policy=True):\n",
    "        \"\"\"\n",
    "        多腕バンディットのゲーム\n",
    "        arms_p: list 腕Kの確率\n",
    "        \"\"\"\n",
    "        for _ in range(n):\n",
    "            # 腕を選択する\n",
    "            if use_policy:\n",
    "                mu = [tr / (tc + 1e-5) for tr, tc in self.total_reward_count]\n",
    "                selected_arm = self.policy.select(mu)\n",
    "\n",
    "            # 選択した腕の払い戻し確率を選択する\n",
    "            p = self.pk[selected_arm]\n",
    "\n",
    "            #　腕を引いた結果を取得する\n",
    "            # p=[]は、0番目に0.7といれると、70%の確率で0番目を選択するようになる\n",
    "            # 全部足すと１にしないといけない\n",
    "            reward = np.random.choice(self.rewards, p=[1 - p, p])\n",
    "\n",
    "            self.score_board.append([selected_arm, reward])\n",
    "            self.total_reward_count[selected_arm][0] += reward\n",
    "            self.total_reward_count[selected_arm][1] += 1\n",
    "\n",
    "        return self.score_board\n",
    "    \n",
    "    def export(self, score_board):\n",
    "        score_board_df = pd.DataFrame(score_board, columns=['選択した腕', '結果'])\n",
    "        mu = score_board_df.groupby(['選択した腕'])['結果'].mean().tolist()\n",
    "        for index, v in enumerate(mu):\n",
    "            print('{}番目の腕, 勝率:{:.2%}'.format(index, v))\n",
    "        \n",
    "        self.score_board_df = score_board_df\n",
    "\n",
    "\n",
    "class Policy():\n",
    "    def select(self):\n",
    "        raise NotImplementedError()\n",
    "\n",
    "class Greedy(Policy):\n",
    "    def select(self, mu):\n",
    "        return np.argmax(mu)"
   ]
  },
  {
   "cell_type": "code",
   "execution_count": 3,
   "metadata": {},
   "outputs": [
    {
     "name": "stdout",
     "output_type": "stream",
     "text": [
      "確率: [ 0.81132439  0.90577762]\n",
      "0番目の腕, 勝率:100.00%\n",
      "1番目の腕, 勝率:80.00%\n",
      "0番目の腕, 勝率:90.00%\n",
      "1番目の腕, 勝率:80.00%\n"
     ]
    }
   ],
   "source": [
    "# 動作テスト\n",
    "policy = Greedy()\n",
    "game = MultiArmedBundit(policy=policy, warmup=5)\n",
    "score_board = game.play(n=5)\n",
    "game.export(score_board)"
   ]
  },
  {
   "cell_type": "code",
   "execution_count": 4,
   "metadata": {},
   "outputs": [
    {
     "name": "stdout",
     "output_type": "stream",
     "text": [
      "確率: [0.6, 0.4]\n",
      "0番目の腕, 勝率:80.00%\n",
      "1番目の腕, 勝率:60.00%\n",
      "0番目の腕, 勝率:66.67%\n",
      "1番目の腕, 勝率:50.00%\n"
     ]
    }
   ],
   "source": [
    "pk = [0.6, 0.4]\n",
    "policy = Greedy()\n",
    "game = MultiArmedBundit(pk=pk, policy=policy, warmup=5)\n",
    "score_board = game.play(n=5)\n",
    "game.export(score_board)"
   ]
  },
  {
   "cell_type": "code",
   "execution_count": 5,
   "metadata": {},
   "outputs": [
    {
     "name": "stdout",
     "output_type": "stream",
     "text": [
      "確率: [0.6, 0.4]\n",
      "0番目の腕, 勝率:60.00%\n",
      "1番目の腕, 勝率:40.00%\n",
      "0番目の腕, 勝率:58.10%\n",
      "1番目の腕, 勝率:40.00%\n"
     ]
    }
   ],
   "source": [
    "pk = [0.6, 0.4]\n",
    "policy = Greedy()\n",
    "game = MultiArmedBundit(pk=pk, policy=policy, warmup=5)\n",
    "score_board = game.play(n=100)\n",
    "game.export(score_board)"
   ]
  },
  {
   "cell_type": "code",
   "execution_count": 6,
   "metadata": {},
   "outputs": [
    {
     "name": "stdout",
     "output_type": "stream",
     "text": [
      "確率: [0.6, 0.4]\n",
      "0番目の腕, 勝率:60.00%\n",
      "1番目の腕, 勝率:20.00%\n",
      "0番目の腕, 勝率:58.91%\n",
      "1番目の腕, 勝率:20.00%\n"
     ]
    }
   ],
   "source": [
    "pk = [0.6, 0.4]\n",
    "policy = Greedy()\n",
    "game = MultiArmedBundit(pk=pk, policy=policy, warmup=5)\n",
    "score_board = game.play(n=1000)\n",
    "game.export(score_board)"
   ]
  },
  {
   "cell_type": "code",
   "execution_count": 7,
   "metadata": {},
   "outputs": [
    {
     "name": "stdout",
     "output_type": "stream",
     "text": [
      "確率: [0.6, 0.4]\n",
      "0番目の腕, 勝率:60.00%\n",
      "1番目の腕, 勝率:20.00%\n",
      "0番目の腕, 勝率:59.54%\n",
      "1番目の腕, 勝率:20.00%\n"
     ]
    }
   ],
   "source": [
    "pk = [0.6, 0.4]\n",
    "policy = Greedy()\n",
    "game = MultiArmedBundit(pk=pk, policy=policy, warmup=5)\n",
    "score_board = game.play(n=10000)\n",
    "game.export(score_board)"
   ]
  },
  {
   "cell_type": "markdown",
   "metadata": {},
   "source": [
    "100回ぐらいから0番目の腕が勝てそうとわかる"
   ]
  },
  {
   "cell_type": "markdown",
   "metadata": {},
   "source": [
    "一方、試行回数nが少ない場合、期待値の分散が大きくなるため、誤って最適ではない腕を選択してしまう可能性が増える.\n",
    "\n",
    "このとき間違いそうなパターンは２種類ある."
   ]
  },
  {
   "cell_type": "markdown",
   "metadata": {},
   "source": [
    "### 払戻率を大きい側に誤認した場合"
   ]
  },
  {
   "cell_type": "code",
   "execution_count": 8,
   "metadata": {},
   "outputs": [
    {
     "name": "stdout",
     "output_type": "stream",
     "text": [
      "確率: [0.6, 0.4]\n",
      "0番目の腕, 勝率:66.67%\n",
      "1番目の腕, 勝率:66.67%\n"
     ]
    },
    {
     "data": {
      "text/html": [
       "<div>\n",
       "<style>\n",
       "    .dataframe thead tr:only-child th {\n",
       "        text-align: right;\n",
       "    }\n",
       "\n",
       "    .dataframe thead th {\n",
       "        text-align: left;\n",
       "    }\n",
       "\n",
       "    .dataframe tbody tr th {\n",
       "        vertical-align: top;\n",
       "    }\n",
       "</style>\n",
       "<table border=\"1\" class=\"dataframe\">\n",
       "  <thead>\n",
       "    <tr style=\"text-align: right;\">\n",
       "      <th></th>\n",
       "      <th>選択した腕</th>\n",
       "      <th>結果</th>\n",
       "    </tr>\n",
       "  </thead>\n",
       "  <tbody>\n",
       "    <tr>\n",
       "      <th>0</th>\n",
       "      <td>0</td>\n",
       "      <td>1</td>\n",
       "    </tr>\n",
       "    <tr>\n",
       "      <th>1</th>\n",
       "      <td>0</td>\n",
       "      <td>0</td>\n",
       "    </tr>\n",
       "    <tr>\n",
       "      <th>2</th>\n",
       "      <td>0</td>\n",
       "      <td>1</td>\n",
       "    </tr>\n",
       "    <tr>\n",
       "      <th>3</th>\n",
       "      <td>1</td>\n",
       "      <td>1</td>\n",
       "    </tr>\n",
       "    <tr>\n",
       "      <th>4</th>\n",
       "      <td>1</td>\n",
       "      <td>0</td>\n",
       "    </tr>\n",
       "    <tr>\n",
       "      <th>5</th>\n",
       "      <td>1</td>\n",
       "      <td>1</td>\n",
       "    </tr>\n",
       "  </tbody>\n",
       "</table>\n",
       "</div>"
      ],
      "text/plain": [
       "   選択した腕  結果\n",
       "0      0   1\n",
       "1      0   0\n",
       "2      0   1\n",
       "3      1   1\n",
       "4      1   0\n",
       "5      1   1"
      ]
     },
     "execution_count": 8,
     "metadata": {},
     "output_type": "execute_result"
    }
   ],
   "source": [
    "pk = [0.6, 0.4]\n",
    "policy = Greedy()\n",
    "game = MultiArmedBundit(pk=pk, policy=policy, warmup=3)\n",
    "game.score_board_df"
   ]
  },
  {
   "cell_type": "markdown",
   "metadata": {},
   "source": [
    "3回試したとき、たまたま1番目の腕のほうが良い結果になった  \n",
    "\n",
    "ほんじゃ1番目をずっと実行しよう\n",
    "が、しかし"
   ]
  },
  {
   "cell_type": "code",
   "execution_count": 9,
   "metadata": {
    "scrolled": false
   },
   "outputs": [
    {
     "name": "stdout",
     "output_type": "stream",
     "text": [
      "0番目の腕, 勝率:63.64%\n",
      "1番目の腕, 勝率:50.00%\n"
     ]
    },
    {
     "data": {
      "text/html": [
       "<div>\n",
       "<style>\n",
       "    .dataframe thead tr:only-child th {\n",
       "        text-align: right;\n",
       "    }\n",
       "\n",
       "    .dataframe thead th {\n",
       "        text-align: left;\n",
       "    }\n",
       "\n",
       "    .dataframe tbody tr th {\n",
       "        vertical-align: top;\n",
       "    }\n",
       "</style>\n",
       "<table border=\"1\" class=\"dataframe\">\n",
       "  <thead>\n",
       "    <tr style=\"text-align: right;\">\n",
       "      <th></th>\n",
       "      <th>選択した腕</th>\n",
       "      <th>結果</th>\n",
       "    </tr>\n",
       "  </thead>\n",
       "  <tbody>\n",
       "    <tr>\n",
       "      <th>0</th>\n",
       "      <td>0</td>\n",
       "      <td>1</td>\n",
       "    </tr>\n",
       "    <tr>\n",
       "      <th>1</th>\n",
       "      <td>0</td>\n",
       "      <td>0</td>\n",
       "    </tr>\n",
       "    <tr>\n",
       "      <th>2</th>\n",
       "      <td>0</td>\n",
       "      <td>1</td>\n",
       "    </tr>\n",
       "    <tr>\n",
       "      <th>3</th>\n",
       "      <td>1</td>\n",
       "      <td>1</td>\n",
       "    </tr>\n",
       "    <tr>\n",
       "      <th>4</th>\n",
       "      <td>1</td>\n",
       "      <td>0</td>\n",
       "    </tr>\n",
       "    <tr>\n",
       "      <th>5</th>\n",
       "      <td>1</td>\n",
       "      <td>1</td>\n",
       "    </tr>\n",
       "    <tr>\n",
       "      <th>6</th>\n",
       "      <td>0</td>\n",
       "      <td>1</td>\n",
       "    </tr>\n",
       "    <tr>\n",
       "      <th>7</th>\n",
       "      <td>0</td>\n",
       "      <td>0</td>\n",
       "    </tr>\n",
       "    <tr>\n",
       "      <th>8</th>\n",
       "      <td>1</td>\n",
       "      <td>0</td>\n",
       "    </tr>\n",
       "    <tr>\n",
       "      <th>9</th>\n",
       "      <td>0</td>\n",
       "      <td>1</td>\n",
       "    </tr>\n",
       "    <tr>\n",
       "      <th>10</th>\n",
       "      <td>0</td>\n",
       "      <td>1</td>\n",
       "    </tr>\n",
       "    <tr>\n",
       "      <th>11</th>\n",
       "      <td>0</td>\n",
       "      <td>0</td>\n",
       "    </tr>\n",
       "    <tr>\n",
       "      <th>12</th>\n",
       "      <td>0</td>\n",
       "      <td>1</td>\n",
       "    </tr>\n",
       "    <tr>\n",
       "      <th>13</th>\n",
       "      <td>0</td>\n",
       "      <td>1</td>\n",
       "    </tr>\n",
       "    <tr>\n",
       "      <th>14</th>\n",
       "      <td>0</td>\n",
       "      <td>1</td>\n",
       "    </tr>\n",
       "    <tr>\n",
       "      <th>15</th>\n",
       "      <td>0</td>\n",
       "      <td>1</td>\n",
       "    </tr>\n",
       "    <tr>\n",
       "      <th>16</th>\n",
       "      <td>0</td>\n",
       "      <td>0</td>\n",
       "    </tr>\n",
       "    <tr>\n",
       "      <th>17</th>\n",
       "      <td>0</td>\n",
       "      <td>0</td>\n",
       "    </tr>\n",
       "    <tr>\n",
       "      <th>18</th>\n",
       "      <td>0</td>\n",
       "      <td>1</td>\n",
       "    </tr>\n",
       "    <tr>\n",
       "      <th>19</th>\n",
       "      <td>0</td>\n",
       "      <td>0</td>\n",
       "    </tr>\n",
       "    <tr>\n",
       "      <th>20</th>\n",
       "      <td>0</td>\n",
       "      <td>0</td>\n",
       "    </tr>\n",
       "    <tr>\n",
       "      <th>21</th>\n",
       "      <td>0</td>\n",
       "      <td>1</td>\n",
       "    </tr>\n",
       "    <tr>\n",
       "      <th>22</th>\n",
       "      <td>0</td>\n",
       "      <td>1</td>\n",
       "    </tr>\n",
       "    <tr>\n",
       "      <th>23</th>\n",
       "      <td>0</td>\n",
       "      <td>0</td>\n",
       "    </tr>\n",
       "    <tr>\n",
       "      <th>24</th>\n",
       "      <td>0</td>\n",
       "      <td>1</td>\n",
       "    </tr>\n",
       "    <tr>\n",
       "      <th>25</th>\n",
       "      <td>0</td>\n",
       "      <td>1</td>\n",
       "    </tr>\n",
       "  </tbody>\n",
       "</table>\n",
       "</div>"
      ],
      "text/plain": [
       "    選択した腕  結果\n",
       "0       0   1\n",
       "1       0   0\n",
       "2       0   1\n",
       "3       1   1\n",
       "4       1   0\n",
       "5       1   1\n",
       "6       0   1\n",
       "7       0   0\n",
       "8       1   0\n",
       "9       0   1\n",
       "10      0   1\n",
       "11      0   0\n",
       "12      0   1\n",
       "13      0   1\n",
       "14      0   1\n",
       "15      0   1\n",
       "16      0   0\n",
       "17      0   0\n",
       "18      0   1\n",
       "19      0   0\n",
       "20      0   0\n",
       "21      0   1\n",
       "22      0   1\n",
       "23      0   0\n",
       "24      0   1\n",
       "25      0   1"
      ]
     },
     "execution_count": 9,
     "metadata": {},
     "output_type": "execute_result"
    }
   ],
   "source": [
    "score_board = game.play(n=20)\n",
    "game.export(score_board)\n",
    "game.score_board_df"
   ]
  },
  {
   "cell_type": "markdown",
   "metadata": {},
   "source": [
    "1番目を選択しよう（誤った学習からの脱出）"
   ]
  },
  {
   "cell_type": "markdown",
   "metadata": {},
   "source": [
    "### 払戻率を小さい側に誤認した場合"
   ]
  },
  {
   "cell_type": "code",
   "execution_count": 10,
   "metadata": {},
   "outputs": [
    {
     "name": "stdout",
     "output_type": "stream",
     "text": [
      "確率: [0.6, 0.4]\n",
      "0番目の腕, 勝率:33.33%\n",
      "1番目の腕, 勝率:66.67%\n"
     ]
    },
    {
     "data": {
      "text/html": [
       "<div>\n",
       "<style>\n",
       "    .dataframe thead tr:only-child th {\n",
       "        text-align: right;\n",
       "    }\n",
       "\n",
       "    .dataframe thead th {\n",
       "        text-align: left;\n",
       "    }\n",
       "\n",
       "    .dataframe tbody tr th {\n",
       "        vertical-align: top;\n",
       "    }\n",
       "</style>\n",
       "<table border=\"1\" class=\"dataframe\">\n",
       "  <thead>\n",
       "    <tr style=\"text-align: right;\">\n",
       "      <th></th>\n",
       "      <th>選択した腕</th>\n",
       "      <th>結果</th>\n",
       "    </tr>\n",
       "  </thead>\n",
       "  <tbody>\n",
       "    <tr>\n",
       "      <th>0</th>\n",
       "      <td>0</td>\n",
       "      <td>0</td>\n",
       "    </tr>\n",
       "    <tr>\n",
       "      <th>1</th>\n",
       "      <td>0</td>\n",
       "      <td>0</td>\n",
       "    </tr>\n",
       "    <tr>\n",
       "      <th>2</th>\n",
       "      <td>0</td>\n",
       "      <td>1</td>\n",
       "    </tr>\n",
       "    <tr>\n",
       "      <th>3</th>\n",
       "      <td>1</td>\n",
       "      <td>0</td>\n",
       "    </tr>\n",
       "    <tr>\n",
       "      <th>4</th>\n",
       "      <td>1</td>\n",
       "      <td>1</td>\n",
       "    </tr>\n",
       "    <tr>\n",
       "      <th>5</th>\n",
       "      <td>1</td>\n",
       "      <td>1</td>\n",
       "    </tr>\n",
       "  </tbody>\n",
       "</table>\n",
       "</div>"
      ],
      "text/plain": [
       "   選択した腕  結果\n",
       "0      0   0\n",
       "1      0   0\n",
       "2      0   1\n",
       "3      1   0\n",
       "4      1   1\n",
       "5      1   1"
      ]
     },
     "execution_count": 10,
     "metadata": {},
     "output_type": "execute_result"
    }
   ],
   "source": [
    "pk = [0.6, 0.4]\n",
    "policy = Greedy()\n",
    "game = MultiArmedBundit(pk=pk, policy=policy, warmup=3)\n",
    "game.score_board_df"
   ]
  },
  {
   "cell_type": "markdown",
   "metadata": {},
   "source": [
    "たまたま、0番目より1番目のほうが悪い結果になった\n",
    "よし、0番目を選択しよう"
   ]
  },
  {
   "cell_type": "code",
   "execution_count": 11,
   "metadata": {},
   "outputs": [
    {
     "name": "stdout",
     "output_type": "stream",
     "text": [
      "0番目の腕, 勝率:33.33%\n",
      "1番目の腕, 勝率:36.36%\n"
     ]
    },
    {
     "data": {
      "text/html": [
       "<div>\n",
       "<style>\n",
       "    .dataframe thead tr:only-child th {\n",
       "        text-align: right;\n",
       "    }\n",
       "\n",
       "    .dataframe thead th {\n",
       "        text-align: left;\n",
       "    }\n",
       "\n",
       "    .dataframe tbody tr th {\n",
       "        vertical-align: top;\n",
       "    }\n",
       "</style>\n",
       "<table border=\"1\" class=\"dataframe\">\n",
       "  <thead>\n",
       "    <tr style=\"text-align: right;\">\n",
       "      <th></th>\n",
       "      <th>選択した腕</th>\n",
       "      <th>結果</th>\n",
       "    </tr>\n",
       "  </thead>\n",
       "  <tbody>\n",
       "    <tr>\n",
       "      <th>0</th>\n",
       "      <td>0</td>\n",
       "      <td>0</td>\n",
       "    </tr>\n",
       "    <tr>\n",
       "      <th>1</th>\n",
       "      <td>0</td>\n",
       "      <td>0</td>\n",
       "    </tr>\n",
       "    <tr>\n",
       "      <th>2</th>\n",
       "      <td>0</td>\n",
       "      <td>1</td>\n",
       "    </tr>\n",
       "    <tr>\n",
       "      <th>3</th>\n",
       "      <td>1</td>\n",
       "      <td>0</td>\n",
       "    </tr>\n",
       "    <tr>\n",
       "      <th>4</th>\n",
       "      <td>1</td>\n",
       "      <td>1</td>\n",
       "    </tr>\n",
       "    <tr>\n",
       "      <th>5</th>\n",
       "      <td>1</td>\n",
       "      <td>1</td>\n",
       "    </tr>\n",
       "    <tr>\n",
       "      <th>6</th>\n",
       "      <td>1</td>\n",
       "      <td>0</td>\n",
       "    </tr>\n",
       "    <tr>\n",
       "      <th>7</th>\n",
       "      <td>1</td>\n",
       "      <td>1</td>\n",
       "    </tr>\n",
       "    <tr>\n",
       "      <th>8</th>\n",
       "      <td>1</td>\n",
       "      <td>0</td>\n",
       "    </tr>\n",
       "    <tr>\n",
       "      <th>9</th>\n",
       "      <td>1</td>\n",
       "      <td>1</td>\n",
       "    </tr>\n",
       "    <tr>\n",
       "      <th>10</th>\n",
       "      <td>1</td>\n",
       "      <td>0</td>\n",
       "    </tr>\n",
       "    <tr>\n",
       "      <th>11</th>\n",
       "      <td>1</td>\n",
       "      <td>0</td>\n",
       "    </tr>\n",
       "    <tr>\n",
       "      <th>12</th>\n",
       "      <td>1</td>\n",
       "      <td>0</td>\n",
       "    </tr>\n",
       "    <tr>\n",
       "      <th>13</th>\n",
       "      <td>1</td>\n",
       "      <td>1</td>\n",
       "    </tr>\n",
       "    <tr>\n",
       "      <th>14</th>\n",
       "      <td>1</td>\n",
       "      <td>0</td>\n",
       "    </tr>\n",
       "    <tr>\n",
       "      <th>15</th>\n",
       "      <td>1</td>\n",
       "      <td>0</td>\n",
       "    </tr>\n",
       "    <tr>\n",
       "      <th>16</th>\n",
       "      <td>1</td>\n",
       "      <td>1</td>\n",
       "    </tr>\n",
       "    <tr>\n",
       "      <th>17</th>\n",
       "      <td>1</td>\n",
       "      <td>0</td>\n",
       "    </tr>\n",
       "    <tr>\n",
       "      <th>18</th>\n",
       "      <td>1</td>\n",
       "      <td>1</td>\n",
       "    </tr>\n",
       "    <tr>\n",
       "      <th>19</th>\n",
       "      <td>1</td>\n",
       "      <td>0</td>\n",
       "    </tr>\n",
       "    <tr>\n",
       "      <th>20</th>\n",
       "      <td>1</td>\n",
       "      <td>1</td>\n",
       "    </tr>\n",
       "    <tr>\n",
       "      <th>21</th>\n",
       "      <td>1</td>\n",
       "      <td>0</td>\n",
       "    </tr>\n",
       "    <tr>\n",
       "      <th>22</th>\n",
       "      <td>1</td>\n",
       "      <td>0</td>\n",
       "    </tr>\n",
       "    <tr>\n",
       "      <th>23</th>\n",
       "      <td>1</td>\n",
       "      <td>0</td>\n",
       "    </tr>\n",
       "    <tr>\n",
       "      <th>24</th>\n",
       "      <td>1</td>\n",
       "      <td>0</td>\n",
       "    </tr>\n",
       "    <tr>\n",
       "      <th>25</th>\n",
       "      <td>1</td>\n",
       "      <td>0</td>\n",
       "    </tr>\n",
       "    <tr>\n",
       "      <th>26</th>\n",
       "      <td>1</td>\n",
       "      <td>1</td>\n",
       "    </tr>\n",
       "    <tr>\n",
       "      <th>27</th>\n",
       "      <td>1</td>\n",
       "      <td>0</td>\n",
       "    </tr>\n",
       "    <tr>\n",
       "      <th>28</th>\n",
       "      <td>1</td>\n",
       "      <td>0</td>\n",
       "    </tr>\n",
       "    <tr>\n",
       "      <th>29</th>\n",
       "      <td>1</td>\n",
       "      <td>1</td>\n",
       "    </tr>\n",
       "    <tr>\n",
       "      <th>30</th>\n",
       "      <td>1</td>\n",
       "      <td>1</td>\n",
       "    </tr>\n",
       "    <tr>\n",
       "      <th>31</th>\n",
       "      <td>1</td>\n",
       "      <td>0</td>\n",
       "    </tr>\n",
       "    <tr>\n",
       "      <th>32</th>\n",
       "      <td>1</td>\n",
       "      <td>1</td>\n",
       "    </tr>\n",
       "    <tr>\n",
       "      <th>33</th>\n",
       "      <td>1</td>\n",
       "      <td>0</td>\n",
       "    </tr>\n",
       "    <tr>\n",
       "      <th>34</th>\n",
       "      <td>1</td>\n",
       "      <td>0</td>\n",
       "    </tr>\n",
       "    <tr>\n",
       "      <th>35</th>\n",
       "      <td>1</td>\n",
       "      <td>0</td>\n",
       "    </tr>\n",
       "  </tbody>\n",
       "</table>\n",
       "</div>"
      ],
      "text/plain": [
       "    選択した腕  結果\n",
       "0       0   0\n",
       "1       0   0\n",
       "2       0   1\n",
       "3       1   0\n",
       "4       1   1\n",
       "5       1   1\n",
       "6       1   0\n",
       "7       1   1\n",
       "8       1   0\n",
       "9       1   1\n",
       "10      1   0\n",
       "11      1   0\n",
       "12      1   0\n",
       "13      1   1\n",
       "14      1   0\n",
       "15      1   0\n",
       "16      1   1\n",
       "17      1   0\n",
       "18      1   1\n",
       "19      1   0\n",
       "20      1   1\n",
       "21      1   0\n",
       "22      1   0\n",
       "23      1   0\n",
       "24      1   0\n",
       "25      1   0\n",
       "26      1   1\n",
       "27      1   0\n",
       "28      1   0\n",
       "29      1   1\n",
       "30      1   1\n",
       "31      1   0\n",
       "32      1   1\n",
       "33      1   0\n",
       "34      1   0\n",
       "35      1   0"
      ]
     },
     "execution_count": 11,
     "metadata": {},
     "output_type": "execute_result"
    }
   ],
   "source": [
    "score_board = game.play(n=30)\n",
    "game.export(score_board)\n",
    "game.score_board_df"
   ]
  },
  {
   "cell_type": "markdown",
   "metadata": {},
   "source": [
    "1番目を選択しよう（局所解への落ち込み）"
   ]
  },
  {
   "cell_type": "markdown",
   "metadata": {},
   "source": [
    "## ε-greedyアルゴリズム"
   ]
  },
  {
   "cell_type": "markdown",
   "metadata": {},
   "source": [
    "最初にしてから利用する、ではリスクをゼロにすることができない。また、最初にすべて探索しようとすると多くのコストがかかる。じゃあ探索と利用を混ぜようじゃないかというのが、ε-greedy（いぷしろんぐりーでぃー）アルゴリズムである。  \n",
    "\n",
    "* まだ選んでいない腕がある場合、その腕から１つ選ぶ\n",
    "* 確率εですべての腕からランダムに１つ選ぶ\n",
    "* 確率1-εで、これまでの報酬の平均$\\mu_i$が最大の腕を選択する（greedyアルゴリズム）\n",
    "* 0 ≦ ε ≦ 1"
   ]
  },
  {
   "cell_type": "code",
   "execution_count": 12,
   "metadata": {},
   "outputs": [
    {
     "name": "stdout",
     "output_type": "stream",
     "text": [
      "確率: [0.6, 0.4]\n",
      "0番目の腕, 勝率:60.23%\n",
      "1番目の腕, 勝率:25.00%\n"
     ]
    }
   ],
   "source": [
    "class EpsGreedy(Policy):\n",
    "    def __init__(self, eps=0.1):\n",
    "        self.eps = eps\n",
    "\n",
    "    def select(self, mu):\n",
    "        # ランダムで出した値よりepsのほうが大きいなら\n",
    "        # ランダムに腕を選択する\n",
    "        if np.random.uniform() < self.eps: \n",
    "            return np.random.choice([i for i in range(len(mu))])\n",
    "        \n",
    "        # greedy\n",
    "        return np.argmax(mu)\n",
    "\n",
    "\n",
    "pk = [0.6, 0.4]\n",
    "policy = EpsGreedy(eps=0.3)\n",
    "game = MultiArmedBundit(pk=pk, policy=policy)\n",
    "score_board = game.play(n=100)\n",
    "game.export(score_board)"
   ]
  },
  {
   "cell_type": "code",
   "execution_count": null,
   "metadata": {
    "collapsed": true
   },
   "outputs": [],
   "source": []
  }
 ],
 "metadata": {
  "kernelspec": {
   "display_name": "Python 3",
   "language": "python",
   "name": "python3"
  },
  "language_info": {
   "codemirror_mode": {
    "name": "ipython",
    "version": 3
   },
   "file_extension": ".py",
   "mimetype": "text/x-python",
   "name": "python",
   "nbconvert_exporter": "python",
   "pygments_lexer": "ipython3",
   "version": "3.6.3"
  }
 },
 "nbformat": 4,
 "nbformat_minor": 2
}
