{
 "cells": [
  {
   "cell_type": "code",
   "execution_count": 447,
   "metadata": {
    "collapsed": true
   },
   "outputs": [],
   "source": [
    "import pandas as pd\n",
    "import numpy as np\n",
    "import matplotlib.pyplot as plt\n",
    "from src.grid import *\n",
    "\n",
    "# numpy float 見づらいので調整する\n",
    "np.set_printoptions(formatter={'float': '{: 0.3f}'.format})\n",
    "\n",
    "%matplotlib inline"
   ]
  },
  {
   "cell_type": "markdown",
   "metadata": {},
   "source": [
    "# SARSA\n",
    "\n",
    "status -> action -> reward -> status -> actionでSARSA\n",
    "\n",
    "$Q(S_t, A_t) \\gets (1 - \\alpha)Q(S_t, A_t) + \\alpha(R_{t+1} + \\gamma Q(S_{t+1}, A_{t+1}))$\n",
    "\n",
    "$\\alpha$は学習率です.\n",
    "\n",
    "式変形\n",
    "\n",
    "$Q(S_t, A_t) \\gets Q(S_t, A_t) + \\alpha(R_{t+1} + \\gamma (S_{t+1}, A_{t+1}) - Q(S_t, A_t))$\n",
    "\n",
    "$R_{t+1} + \\gamma (S_{t+1}, A_{t+1}) - Q(S_t, A_t)$ <- TD誤差\n",
    "\n",
    "収束すればゼロになる。収束からの離れ具合といえる"
   ]
  },
  {
   "cell_type": "markdown",
   "metadata": {},
   "source": [
    "適当に実装してみる"
   ]
  },
  {
   "cell_type": "code",
   "execution_count": 196,
   "metadata": {},
   "outputs": [
    {
     "data": {
      "text/plain": [
       "array([[ 10.,  10.],\n",
       "       [ 10.,  10.],\n",
       "       [ 10.,  10.],\n",
       "       [ 10.,  10.]])"
      ]
     },
     "execution_count": 196,
     "metadata": {},
     "output_type": "execute_result"
    }
   ],
   "source": [
    "q_table = np.zeros(np.array(grid_transition).shape)\n",
    "q_table[:]  = 10  # Q関数の値を10で初期化\n",
    "q_table"
   ]
  },
  {
   "cell_type": "code",
   "execution_count": 514,
   "metadata": {
    "collapsed": true
   },
   "outputs": [],
   "source": [
    "lr = 0.01  # learning rate 学習率"
   ]
  },
  {
   "cell_type": "code",
   "execution_count": 536,
   "metadata": {},
   "outputs": [
    {
     "data": {
      "text/plain": [
       "9.9800000000000004"
      ]
     },
     "execution_count": 536,
     "metadata": {},
     "output_type": "execute_result"
    }
   ],
   "source": [
    "state = 0\n",
    "action = 0\n",
    "gamma = 0.8\n",
    "\n",
    "next_state = 2\n",
    "next_action = 0\n",
    "# update式\n",
    "(1 - lr) * q_table[state, action] + lr * (r(state, action) + gamma * q_table[next_state, next_action])"
   ]
  },
  {
   "cell_type": "code",
   "execution_count": 537,
   "metadata": {
    "collapsed": true
   },
   "outputs": [],
   "source": [
    "def r(state, action, next_state=None):\n",
    "    return grid_reward[state][action]\n",
    "\n",
    "\n",
    "def update(state, action, next_state, next_action):\n",
    "    global q_table\n",
    "    q_table[state, action] = (1 - lr) * q_table[state, action] + lr * (r(state, action) + gamma * q_table[next_state, next_action])\n",
    "    \n",
    "    # 下記でも良い\n",
    "    # td = r(state, action) + gamma * q_table[next_state, next_action] - q_table[state, action]\n",
    "    # q_table[state][action] += lr * td"
   ]
  },
  {
   "cell_type": "code",
   "execution_count": 538,
   "metadata": {
    "collapsed": true
   },
   "outputs": [],
   "source": [
    "def policy_1():\n",
    "    return [0.5, 0.5]\n",
    "\n",
    "def policy_2():\n",
    "    return [0.95, 0.05]"
   ]
  },
  {
   "cell_type": "code",
   "execution_count": 539,
   "metadata": {},
   "outputs": [
    {
     "name": "stdout",
     "output_type": "stream",
     "text": [
      "[[-28.212  2.951]\n",
      " [-6.593  9.049]\n",
      " [ 12.861 -101.388]\n",
      " [ 10.000  10.000]]\n"
     ]
    }
   ],
   "source": [
    "q_table = np.zeros(np.array(grid_transition).shape)\n",
    "q_table[:]  = 10  # Q関数の値を10で初期化\n",
    "\n",
    "state = 0\n",
    "probas = policy_1()\n",
    "action = np.random.choice(actions, p=probas)\n",
    "for episode in range(3000):\n",
    "    next_state = grid_transition[state][action]\n",
    "    if next_state is None:\n",
    "        state = 0\n",
    "        action = np.random.choice(actions, p=probas)\n",
    "        continue\n",
    "\n",
    "    next_action = np.random.choice(actions, p=probas)\n",
    "    \n",
    "    update(state, action, next_state, next_action)\n",
    "    state = next_state\n",
    "    action = next_action\n",
    "\n",
    "print(q_table)"
   ]
  },
  {
   "cell_type": "markdown",
   "metadata": {},
   "source": [
    "plotしてみる"
   ]
  },
  {
   "cell_type": "code",
   "execution_count": 540,
   "metadata": {},
   "outputs": [
    {
     "name": "stdout",
     "output_type": "stream",
     "text": [
      "[[-28.001  3.552]\n",
      " [-5.695  9.041]\n",
      " [ 12.831 -97.524]\n",
      " [ 10.000  10.000]]\n"
     ]
    }
   ],
   "source": [
    "q_table = np.zeros(np.array(grid_transition).shape)\n",
    "q_table[:]  = 10  # Q関数の値を10で初期化\n",
    "\n",
    "state = 0\n",
    "probas = policy_1()\n",
    "action = np.random.choice(actions, p=probas)\n",
    "q_0_0 = []\n",
    "q_0_1 = []\n",
    "for episode in range(3000):\n",
    "    next_state = grid_transition[state][action]\n",
    "    if next_state is None:\n",
    "        state = 0\n",
    "        action = np.random.choice(actions, p=probas)\n",
    "        continue\n",
    "\n",
    "    next_action = np.random.choice(actions, p=probas)\n",
    "    q_0_0.append(q_table[0, 0])\n",
    "    q_0_1.append(q_table[0, 1])\n",
    "    \n",
    "    update(state, action, next_state, next_action)\n",
    "    state = next_state\n",
    "    action = next_action\n",
    "\n",
    "print(q_table)"
   ]
  },
  {
   "cell_type": "code",
   "execution_count": 541,
   "metadata": {},
   "outputs": [
    {
     "data": {
      "text/plain": [
       "[<matplotlib.lines.Line2D at 0x120016eb8>]"
      ]
     },
     "execution_count": 541,
     "metadata": {},
     "output_type": "execute_result"
    },
    {
     "data": {
      "image/png": "[encoded data removed]",
      "text/plain": [
       "<matplotlib.figure.Figure at 0x11ff8f5c0>"
      ]
     },
     "metadata": {},
     "output_type": "display_data"
    }
   ],
   "source": [
    "plt.plot(q_0_0)\n",
    "plt.plot(q_0_1)"
   ]
  },
  {
   "cell_type": "code",
   "execution_count": 542,
   "metadata": {},
   "outputs": [
    {
     "name": "stdout",
     "output_type": "stream",
     "text": [
      "[[-42.300  3.319]\n",
      " [-7.973  9.141]\n",
      " [ 12.956 -127.243]\n",
      " [ 10.000  10.000]]\n"
     ]
    }
   ],
   "source": [
    "q_table = np.zeros(np.array(grid_transition).shape)\n",
    "q_table[:]  = 10  # Q関数の値を10で初期化\n",
    "\n",
    "state = 0\n",
    "action = sarsa_policy_1(state)\n",
    "for episode in range(3000):\n",
    "    next_state = grid_transition[state][action]\n",
    "    if next_state is None:\n",
    "        state = 0\n",
    "        action = sarsa_policy_1(state)\n",
    "        continue\n",
    "\n",
    "    next_action = sarsa_policy_1(state)\n",
    "    \n",
    "    update(state, action, next_state, next_action)\n",
    "    state = next_state\n",
    "    action = next_action\n",
    "\n",
    "print(q_table)"
   ]
  },
  {
   "cell_type": "code",
   "execution_count": 543,
   "metadata": {},
   "outputs": [
    {
     "data": {
      "text/plain": [
       "([<matplotlib.axis.YTick at 0x11fee61d0>,\n",
       "  <matplotlib.axis.YTick at 0x11fece6a0>],\n",
       " <a list of 2 Text yticklabel objects>)"
      ]
     },
     "execution_count": 543,
     "metadata": {},
     "output_type": "execute_result"
    },
    {
     "data": {
      "image/png": "[encoded data removed]",
      "text/plain": [
       "<matplotlib.figure.Figure at 0x11ff686d8>"
      ]
     },
     "metadata": {},
     "output_type": "display_data"
    }
   ],
   "source": [
    "plt.plot(q_0_0)\n",
    "plt.plot(q_0_1)\n",
    "plt.yticks([10, -50])"
   ]
  },
  {
   "cell_type": "markdown",
   "metadata": {},
   "source": [
    "# Q-learning"
   ]
  },
  {
   "cell_type": "markdown",
   "metadata": {},
   "source": [
    "$$\n",
    "Q(S_t, A_t) \\gets (1 - \\alpha) Q(S_t, A_t) + \\alpha(R_{t+1} \\gamma \\max_{a' \\in A(s'_{t+1})} Q(S_{t+1}, a'))\n",
    "$$\n",
    "\n",
    "Q-learningは行動価値を上記のように更新する学習方法である。状態遷移確率が入ってこないため、環境が未知である場合にも計算することができます。\n",
    "\n",
    "Sarsaとの違いとして、遷移後の行動選択についての確率は含まれず、常に最大の行動価値を目標値として更新する。\n",
    "\n",
    "\n",
    "$$\n",
    "Q(S_t, A_t) \\gets Q(S_t, A_t) + \\alpha(R_{t+1} + \\gamma \\max_{a' \\in A(s'_{t+1})} Q(S_{t+1}, a') - Q(S_t, A_t))\n",
    "$$\n",
    "\n",
    "TD誤差のところ $\\alpha(R_{t+1} + \\gamma \\max_{a' \\in A(s'_{t+1})} Q(S_{t+1}, a') - Q(S_t, A_t))$\n",
    "\n",
    "の、$\\gamma \\max_{a' \\in A(s'_{t+1})} Q(S_{t+1}, a') $　の $Q(S_{t+1}, a')$ の $a'$\n",
    "\n",
    "なぜ$a'$なのか？？？ $A_{t+1}$でいいのでは？"
   ]
  },
  {
   "cell_type": "markdown",
   "metadata": {},
   "source": [
    "とりあえず、これもてきとーに組んでみましょう"
   ]
  },
  {
   "cell_type": "code",
   "execution_count": 544,
   "metadata": {},
   "outputs": [
    {
     "data": {
      "text/plain": [
       "array([[ 10.000,  10.000],\n",
       "       [ 10.000,  10.000],\n",
       "       [ 10.000,  10.000],\n",
       "       [ 10.000,  10.000]])"
      ]
     },
     "execution_count": 544,
     "metadata": {},
     "output_type": "execute_result"
    }
   ],
   "source": [
    "q_table = np.zeros(np.array(grid_transition).shape)\n",
    "q_table[:]  = 10  # Q関数の値を10で初期化\n",
    "q_table"
   ]
  },
  {
   "cell_type": "code",
   "execution_count": 545,
   "metadata": {},
   "outputs": [
    {
     "data": {
      "text/plain": [
       "9.9000000000000004"
      ]
     },
     "execution_count": 545,
     "metadata": {},
     "output_type": "execute_result"
    }
   ],
   "source": [
    "state = 0\n",
    "action = 0\n",
    "gamma = 0.8\n",
    "\n",
    "next_state = 2\n",
    "next_action = 0\n",
    "\n",
    "# update式\n",
    "(1 - lr) * q_table[state, action] + lr * (r(state, action) + gamma * np.argmax(q_table[next_state]))"
   ]
  },
  {
   "cell_type": "code",
   "execution_count": 546,
   "metadata": {
    "collapsed": true
   },
   "outputs": [],
   "source": [
    "def update(state, action, next_state):\n",
    "    global q_table\n",
    "    q_table[state, action] = (1 - lr) * q_table[state, action] + lr * (r(state, action) + gamma * np.argmax(q_table[next_state]))"
   ]
  },
  {
   "cell_type": "code",
   "execution_count": 551,
   "metadata": {},
   "outputs": [
    {
     "name": "stdout",
     "output_type": "stream",
     "text": [
      "[[ 0.089  1.873]\n",
      " [ 0.202  1.272]\n",
      " [ 5.164 -96.756]\n",
      " [ 10.000  10.000]]\n"
     ]
    }
   ],
   "source": [
    "q_table = np.zeros(np.array(grid_transition).shape)\n",
    "q_table[:]  = 10  # Q関数の値を10で初期化\n",
    "\n",
    "state = 0\n",
    "probas = policy_1()\n",
    "action = np.random.choice(actions, p=probas)\n",
    "q_0_0 = []\n",
    "q_0_1 = []\n",
    "for episode in range(3000):\n",
    "    next_state = grid_transition[state][action]\n",
    "    if next_state is None:\n",
    "        state = np.random.choice(state)\n",
    "        action = np.random.choice(actions, p=probas)\n",
    "        continue\n",
    "\n",
    "    next_action = np.random.choice(actions, p=probas)\n",
    "    q_0_0.append(q_table[0, 0])\n",
    "    q_0_1.append(q_table[0, 1])\n",
    "    \n",
    "    update(state, action, next_state)\n",
    "    state = next_state\n",
    "    action = next_action\n",
    "\n",
    "print(q_table)"
   ]
  },
  {
   "cell_type": "code",
   "execution_count": 552,
   "metadata": {},
   "outputs": [
    {
     "data": {
      "text/plain": [
       "[<matplotlib.lines.Line2D at 0x1202ec3c8>]"
      ]
     },
     "execution_count": 552,
     "metadata": {},
     "output_type": "execute_result"
    },
    {
     "data": {
      "image/png": "[encoded data removed]",
      "text/plain": [
       "<matplotlib.figure.Figure at 0x1202549e8>"
      ]
     },
     "metadata": {},
     "output_type": "display_data"
    }
   ],
   "source": [
    "plt.plot(q_0_0)\n",
    "plt.plot(q_0_1)"
   ]
  },
  {
   "cell_type": "code",
   "execution_count": 549,
   "metadata": {},
   "outputs": [
    {
     "name": "stdout",
     "output_type": "stream",
     "text": [
      "[[ 0.011  7.866]\n",
      " [ 0.152  8.819]\n",
      " [ 5.000 -34.448]\n",
      " [ 10.000  10.000]]\n"
     ]
    }
   ],
   "source": [
    "q_table = np.zeros(np.array(grid_transition).shape)\n",
    "q_table[:]  = 10  # Q関数の値を10で初期化\n",
    "\n",
    "state = 0\n",
    "probas = policy_2()\n",
    "action = np.random.choice(actions, p=probas)\n",
    "q_0_0 = []\n",
    "q_0_1 = []\n",
    "for episode in range(3000):\n",
    "    next_state = grid_transition[state][action]\n",
    "    if next_state is None:\n",
    "        state = np.random.choice(state)\n",
    "        action = np.random.choice(actions, p=probas)\n",
    "        continue\n",
    "\n",
    "    next_action = np.random.choice(actions, p=probas)\n",
    "    q_0_0.append(q_table[0, 0])\n",
    "    q_0_1.append(q_table[0, 1])\n",
    "    \n",
    "    update(state, action, next_state)\n",
    "    state = next_state\n",
    "    action = next_action\n",
    "\n",
    "print(q_table)"
   ]
  },
  {
   "cell_type": "code",
   "execution_count": 550,
   "metadata": {},
   "outputs": [
    {
     "data": {
      "text/plain": [
       "[<matplotlib.lines.Line2D at 0x12022eeb8>]"
      ]
     },
     "execution_count": 550,
     "metadata": {},
     "output_type": "execute_result"
    },
    {
     "data": {
      "image/png": "[encoded data removed]",
      "text/plain": [
       "<matplotlib.figure.Figure at 0x1201a46a0>"
      ]
     },
     "metadata": {},
     "output_type": "display_data"
    }
   ],
   "source": [
    "plt.plot(q_0_0)\n",
    "plt.plot(q_0_1)"
   ]
  },
  {
   "cell_type": "code",
   "execution_count": null,
   "metadata": {
    "collapsed": true
   },
   "outputs": [],
   "source": [
    "`"
   ]
  }
 ],
 "metadata": {
  "kernelspec": {
   "display_name": "Python 3",
   "language": "python",
   "name": "python3"
  },
  "language_info": {
   "codemirror_mode": {
    "name": "ipython",
    "version": 3
   },
   "file_extension": ".py",
   "mimetype": "text/x-python",
   "name": "python",
   "nbconvert_exporter": "python",
   "pygments_lexer": "ipython3",
   "version": "3.6.3"
  }
 },
 "nbformat": 4,
 "nbformat_minor": 2
}
