{
 "cells": [
  {
   "cell_type": "code",
   "execution_count": 1,
   "metadata": {
    "collapsed": true
   },
   "outputs": [],
   "source": [
    "import pandas as pd\n",
    "import numpy as np"
   ]
  },
  {
   "cell_type": "code",
   "execution_count": 42,
   "metadata": {
    "collapsed": true
   },
   "outputs": [],
   "source": [
    "# s1 -> [a1, a2], s2 -> [a1, a2] ...\n",
    "grid_reward = [[0, 1], [-1, 1], [5, -100], [0, 0]]\n",
    "grid_transition = [[2, 1], [0, 3], [3, 0], [None, None]]\n",
    "actions = [0, 1]\n",
    "gamma = 0.8"
   ]
  },
  {
   "cell_type": "code",
   "execution_count": 82,
   "metadata": {
    "collapsed": true
   },
   "outputs": [],
   "source": [
    "def r(state, action, next_state=None):\n",
    "    return env[state][action]"
   ]
  },
  {
   "cell_type": "code",
   "execution_count": 44,
   "metadata": {},
   "outputs": [
    {
     "data": {
      "text/plain": [
       "2"
      ]
     },
     "execution_count": 44,
     "metadata": {},
     "output_type": "execute_result"
    }
   ],
   "source": [
    "def P(state, action):\n",
    "    return grid_transition[state][action]\n",
    "\n",
    "P(0, 0)"
   ]
  },
  {
   "cell_type": "code",
   "execution_count": 252,
   "metadata": {},
   "outputs": [
    {
     "name": "stdout",
     "output_type": "stream",
     "text": [
      "0 1\n",
      "1 0\n"
     ]
    }
   ],
   "source": [
    "def action(state):\n",
    "    return actions[0]\n",
    "\n",
    "\n",
    "def policy_1(state):\n",
    "    return [1, 0]\n",
    "\n",
    "\n",
    "def policy_2(state):\n",
    "    return [0.5, 0.5]\n",
    "\n",
    "\n",
    "state = 0\n",
    "for action, proba in actions, policy_1(state):\n",
    "    print(action, proba)"
   ]
  },
  {
   "cell_type": "code",
   "execution_count": 253,
   "metadata": {},
   "outputs": [
    {
     "name": "stdout",
     "output_type": "stream",
     "text": [
      "4.0\n",
      "2.2\n",
      "5.0\n",
      "0\n"
     ]
    }
   ],
   "source": [
    "def v(state):\n",
    "    # 方策によっては、終了しないので一定のステップで終了する\n",
    "    global count\n",
    "    if count > 200: return 0\n",
    "    count += 1\n",
    "    total_reward = 0\n",
    "    probas = policy_1(state)\n",
    "    for action, proba in zip(actions, probas):\n",
    "        next_state = P(state, action)\n",
    "        if next_state is None: return 0\n",
    "        reward = r(state, action, next_state)\n",
    "        total_reward += proba * (reward + gamma * v(next_state))\n",
    "    \n",
    "    return total_reward\n",
    "\n",
    "\n",
    "for i in range(4):\n",
    "    count = 0\n",
    "    print(v(i))"
   ]
  },
  {
   "cell_type": "code",
   "execution_count": 257,
   "metadata": {},
   "outputs": [
    {
     "name": "stdout",
     "output_type": "stream",
     "text": [
      "4.0\n",
      "2.2\n",
      "5.0\n",
      "0\n",
      "-22.61904761904762\n",
      "-9.54761904761905\n",
      "-56.54761904761905\n",
      "0\n"
     ]
    }
   ],
   "source": [
    "class ValueIter():\n",
    "    def __init__(self, policy):\n",
    "        self.policy = policy\n",
    "        self.reset()\n",
    "\n",
    "    def reset(self):\n",
    "        self.count = 0\n",
    "\n",
    "    def v(self, state):\n",
    "        total_reward = 0\n",
    "        probas = self.policy(state)\n",
    "        self.count += 1\n",
    "        for action, proba in zip(actions, probas):\n",
    "            next_state = P(state, action)\n",
    "            if next_state is None: return 0\n",
    "            \n",
    "            reward = r(state, action, next_state)\n",
    "            if self.count > 1000:\n",
    "                break\n",
    "                \n",
    "            total_reward += proba * (reward + gamma * self.v(next_state))\n",
    "\n",
    "        return total_reward\n",
    "\n",
    "\n",
    "value_iter = ValueIter(policy_1)\n",
    "for state in range(4):\n",
    "    print(value_iter.v(state))\n",
    "    value_iter.reset()\n",
    "\n",
    "value_iter = ValueIter(policy_2)\n",
    "for state in range(4):\n",
    "    print(value_iter.v(state))\n",
    "    value_iter.reset()"
   ]
  },
  {
   "cell_type": "markdown",
   "metadata": {},
   "source": [
    "行動価値関数でも見てみます"
   ]
  },
  {
   "cell_type": "code",
   "execution_count": 414,
   "metadata": {},
   "outputs": [
    {
     "name": "stdout",
     "output_type": "stream",
     "text": [
      "state:0, action:0, 行動価値:4.0\n",
      "state:0, action:1, 行動価値:-49.3616\n",
      "state:1, action:0, 行動価値:1.2080000000000002\n",
      "state:1, action:1, 行動価値:1.0\n",
      "state:2, action:0, 行動価値:5.0\n",
      "state:2, action:1, 行動価値:-161.952\n",
      "state:3, action:0, 行動価値:0\n",
      "state:3, action:1, 行動価値:0\n"
     ]
    }
   ],
   "source": [
    "def q(state, action):\n",
    "    total_reward = 0\n",
    "    probas = policy_1(state)\n",
    "    next_state = P(state, action)\n",
    "    reward = r(state, action)\n",
    "    if next_state is None: return 0\n",
    "\n",
    "    probas = policy_2(next_state)\n",
    "    next_action = np.random.choice(actions, p=probas)\n",
    "    return reward + gamma * q(next_state, next_action)\n",
    "\n",
    "\n",
    "for i in range(4):\n",
    "    for j in range(2):\n",
    "        print('state:{}, action:{}, 行動価値:{}'.format(i, j, q(i, j)))"
   ]
  },
  {
   "cell_type": "code",
   "execution_count": 465,
   "metadata": {},
   "outputs": [
    {
     "name": "stdout",
     "output_type": "stream",
     "text": [
      "state:0, action:0, 行動価値:-49.050359673711476\n",
      "state:0, action:1, 行動価値:-8.43374434171098\n",
      "state:1, action:0, 行動価値:-22.1541424094687\n",
      "state:1, action:1, 行動価値:1.0\n",
      "state:2, action:0, 行動価値:5.0\n",
      "state:2, action:1, 行動価値:-122.05829381477696\n",
      "state:3, action:0, 行動価値:0.0\n",
      "state:3, action:1, 行動価値:0.0\n"
     ]
    }
   ],
   "source": [
    "class Q():\n",
    "    def __init__(self, policy):\n",
    "        self.policy = policy\n",
    "        self.reset()\n",
    "\n",
    "    def reset(self):\n",
    "        self.count = 0\n",
    "\n",
    "    def q(self, state, action):\n",
    "        total_reward = 0\n",
    "        probas = policy_1(state)\n",
    "        next_state = P(state, action)\n",
    "        reward = r(state, action)\n",
    "        if next_state is None: return 0\n",
    "\n",
    "        probas = policy_2(next_state)\n",
    "        next_action = np.random.choice(actions, p=probas)\n",
    "        return reward + gamma * q(next_state, next_action)\n",
    "\n",
    "q_func = Q(policy_1)\n",
    "results = np.zeros([4, 2]).tolist()\n",
    "for _ in range(1000):\n",
    "    for i in range(4):\n",
    "        for j in range(2):\n",
    "            q_value = q_func.q(i, j)\n",
    "            results[i][j] += q_value\n",
    "\n",
    "for i, v in enumerate(results):\n",
    "    for j, vv in enumerate(v):\n",
    "        print('state:{}, action:{}, 行動価値:{}'.format(i, j, vv / 1000))"
   ]
  },
  {
   "cell_type": "code",
   "execution_count": null,
   "metadata": {
    "collapsed": true
   },
   "outputs": [],
   "source": []
  }
 ],
 "metadata": {
  "kernelspec": {
   "display_name": "Python 3",
   "language": "python",
   "name": "python3"
  },
  "language_info": {
   "codemirror_mode": {
    "name": "ipython",
    "version": 3
   },
   "file_extension": ".py",
   "mimetype": "text/x-python",
   "name": "python",
   "nbconvert_exporter": "python",
   "pygments_lexer": "ipython3",
   "version": "3.6.3"
  }
 },
 "nbformat": 4,
 "nbformat_minor": 2
}
